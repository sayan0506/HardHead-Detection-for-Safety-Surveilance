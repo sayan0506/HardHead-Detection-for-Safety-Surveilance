{
  "nbformat": 4,
  "nbformat_minor": 0,
  "metadata": {
    "colab": {
      "name": "Personal Safety Equipment Detection System using YoloV3.ipynb",
      "provenance": [],
      "collapsed_sections": [],
      "include_colab_link": true
    },
    "kernelspec": {
      "name": "python3",
      "display_name": "Python 3"
    },
    "language_info": {
      "name": "python"
    },
    "accelerator": "GPU"
  },
  "cells": [
    {
      "cell_type": "markdown",
      "metadata": {
        "id": "view-in-github",
        "colab_type": "text"
      },
      "source": [
        "<a href=\"https://colab.research.google.com/github/sayan0506/HardHead-Detection-for-Safety-Surveilance-using-YoloV3/blob/main/Personal_Safety_Equipment_Detection_System_using_YoloV3.ipynb\" target=\"_parent\"><img src=\"https://colab.research.google.com/assets/colab-badge.svg\" alt=\"Open In Colab\"/></a>"
      ]
    },
    {
      "cell_type": "markdown",
      "metadata": {
        "id": "fKDtCB9CQGrF"
      },
      "source": [
        "# **Implement YoloV3 based Safety Equipment Detection using Tensorflow**\n",
        "\n",
        "• **Task: Build A Personal Safety Equipment Detection System**\n",
        "\n",
        "In this noteboook we will try to build a Helmet Detection system from real time images in contruction sites as a personal safety system. The system should detect either head or helmet independently from the images. YoloV3(You Only Look Once Version 3) is an efficient model which has darknet as it's backbone, will be used here to efficiently and fast detect and process the images/video-frame in real time scenarios."
      ]
    },
    {
      "cell_type": "markdown",
      "metadata": {
        "id": "UkQhIIzvV21Z"
      },
      "source": [
        "## **Install Dependencies**"
      ]
    },
    {
      "cell_type": "code",
      "metadata": {
        "id": "7FJb7ePmV7Eg",
        "colab": {
          "base_uri": "https://localhost:8080/"
        },
        "outputId": "4bc51d50-0a15-46c7-e97d-91bcc6fe68ea"
      },
      "source": [
        "# install tensorflow gpu\n",
        "!pip install tensorflow-gpu==2.4.2\n",
        "\n",
        "# install opencv = 4.1.1.26\n",
        "!pip install opencv-python==4.1.1.26\n",
        "\n",
        "# install lxml(helps to parse xml annotations)\n",
        "!pip install lxml\n",
        "\n",
        "# install tqdm(it helps to visualize the progress bar while iterating a loop)\n",
        "# it adds a smart progress meter in loop execution\n",
        "!pip install tqdm"
      ],
      "execution_count": 1,
      "outputs": [
        {
          "output_type": "stream",
          "text": [
            "Collecting tensorflow-gpu==2.4.2\n",
            "  Downloading tensorflow_gpu-2.4.2-cp37-cp37m-manylinux2010_x86_64.whl (394.5 MB)\n",
            "\u001b[K     |████████████████████████████████| 394.5 MB 33 kB/s \n",
            "\u001b[?25hRequirement already satisfied: keras-preprocessing~=1.1.2 in /usr/local/lib/python3.7/dist-packages (from tensorflow-gpu==2.4.2) (1.1.2)\n",
            "Collecting grpcio~=1.32.0\n",
            "  Downloading grpcio-1.32.0-cp37-cp37m-manylinux2014_x86_64.whl (3.8 MB)\n",
            "\u001b[K     |████████████████████████████████| 3.8 MB 61.9 MB/s \n",
            "\u001b[?25hRequirement already satisfied: numpy~=1.19.2 in /usr/local/lib/python3.7/dist-packages (from tensorflow-gpu==2.4.2) (1.19.5)\n",
            "Requirement already satisfied: wrapt~=1.12.1 in /usr/local/lib/python3.7/dist-packages (from tensorflow-gpu==2.4.2) (1.12.1)\n",
            "Requirement already satisfied: termcolor~=1.1.0 in /usr/local/lib/python3.7/dist-packages (from tensorflow-gpu==2.4.2) (1.1.0)\n",
            "Requirement already satisfied: wheel~=0.35 in /usr/local/lib/python3.7/dist-packages (from tensorflow-gpu==2.4.2) (0.37.0)\n",
            "Collecting h5py~=2.10.0\n",
            "  Downloading h5py-2.10.0-cp37-cp37m-manylinux1_x86_64.whl (2.9 MB)\n",
            "\u001b[K     |████████████████████████████████| 2.9 MB 36.9 MB/s \n",
            "\u001b[?25hRequirement already satisfied: opt-einsum~=3.3.0 in /usr/local/lib/python3.7/dist-packages (from tensorflow-gpu==2.4.2) (3.3.0)\n",
            "Requirement already satisfied: tensorboard~=2.4 in /usr/local/lib/python3.7/dist-packages (from tensorflow-gpu==2.4.2) (2.5.0)\n",
            "Collecting gast==0.3.3\n",
            "  Downloading gast-0.3.3-py2.py3-none-any.whl (9.7 kB)\n",
            "Requirement already satisfied: typing-extensions~=3.7.4 in /usr/local/lib/python3.7/dist-packages (from tensorflow-gpu==2.4.2) (3.7.4.3)\n",
            "Requirement already satisfied: astunparse~=1.6.3 in /usr/local/lib/python3.7/dist-packages (from tensorflow-gpu==2.4.2) (1.6.3)\n",
            "Requirement already satisfied: google-pasta~=0.2 in /usr/local/lib/python3.7/dist-packages (from tensorflow-gpu==2.4.2) (0.2.0)\n",
            "Requirement already satisfied: six~=1.15.0 in /usr/local/lib/python3.7/dist-packages (from tensorflow-gpu==2.4.2) (1.15.0)\n",
            "Collecting tensorflow-estimator<2.5.0,>=2.4.0\n",
            "  Downloading tensorflow_estimator-2.4.0-py2.py3-none-any.whl (462 kB)\n",
            "\u001b[K     |████████████████████████████████| 462 kB 55.5 MB/s \n",
            "\u001b[?25hRequirement already satisfied: absl-py~=0.10 in /usr/local/lib/python3.7/dist-packages (from tensorflow-gpu==2.4.2) (0.12.0)\n",
            "Requirement already satisfied: flatbuffers~=1.12.0 in /usr/local/lib/python3.7/dist-packages (from tensorflow-gpu==2.4.2) (1.12)\n",
            "Requirement already satisfied: protobuf>=3.9.2 in /usr/local/lib/python3.7/dist-packages (from tensorflow-gpu==2.4.2) (3.17.3)\n",
            "Requirement already satisfied: google-auth-oauthlib<0.5,>=0.4.1 in /usr/local/lib/python3.7/dist-packages (from tensorboard~=2.4->tensorflow-gpu==2.4.2) (0.4.5)\n",
            "Requirement already satisfied: requests<3,>=2.21.0 in /usr/local/lib/python3.7/dist-packages (from tensorboard~=2.4->tensorflow-gpu==2.4.2) (2.23.0)\n",
            "Requirement already satisfied: google-auth<2,>=1.6.3 in /usr/local/lib/python3.7/dist-packages (from tensorboard~=2.4->tensorflow-gpu==2.4.2) (1.34.0)\n",
            "Requirement already satisfied: tensorboard-plugin-wit>=1.6.0 in /usr/local/lib/python3.7/dist-packages (from tensorboard~=2.4->tensorflow-gpu==2.4.2) (1.8.0)\n",
            "Requirement already satisfied: markdown>=2.6.8 in /usr/local/lib/python3.7/dist-packages (from tensorboard~=2.4->tensorflow-gpu==2.4.2) (3.3.4)\n",
            "Requirement already satisfied: werkzeug>=0.11.15 in /usr/local/lib/python3.7/dist-packages (from tensorboard~=2.4->tensorflow-gpu==2.4.2) (1.0.1)\n",
            "Requirement already satisfied: setuptools>=41.0.0 in /usr/local/lib/python3.7/dist-packages (from tensorboard~=2.4->tensorflow-gpu==2.4.2) (57.4.0)\n",
            "Requirement already satisfied: tensorboard-data-server<0.7.0,>=0.6.0 in /usr/local/lib/python3.7/dist-packages (from tensorboard~=2.4->tensorflow-gpu==2.4.2) (0.6.1)\n",
            "Requirement already satisfied: pyasn1-modules>=0.2.1 in /usr/local/lib/python3.7/dist-packages (from google-auth<2,>=1.6.3->tensorboard~=2.4->tensorflow-gpu==2.4.2) (0.2.8)\n",
            "Requirement already satisfied: rsa<5,>=3.1.4 in /usr/local/lib/python3.7/dist-packages (from google-auth<2,>=1.6.3->tensorboard~=2.4->tensorflow-gpu==2.4.2) (4.7.2)\n",
            "Requirement already satisfied: cachetools<5.0,>=2.0.0 in /usr/local/lib/python3.7/dist-packages (from google-auth<2,>=1.6.3->tensorboard~=2.4->tensorflow-gpu==2.4.2) (4.2.2)\n",
            "Requirement already satisfied: requests-oauthlib>=0.7.0 in /usr/local/lib/python3.7/dist-packages (from google-auth-oauthlib<0.5,>=0.4.1->tensorboard~=2.4->tensorflow-gpu==2.4.2) (1.3.0)\n",
            "Requirement already satisfied: importlib-metadata in /usr/local/lib/python3.7/dist-packages (from markdown>=2.6.8->tensorboard~=2.4->tensorflow-gpu==2.4.2) (4.6.3)\n",
            "Requirement already satisfied: pyasn1<0.5.0,>=0.4.6 in /usr/local/lib/python3.7/dist-packages (from pyasn1-modules>=0.2.1->google-auth<2,>=1.6.3->tensorboard~=2.4->tensorflow-gpu==2.4.2) (0.4.8)\n",
            "Requirement already satisfied: chardet<4,>=3.0.2 in /usr/local/lib/python3.7/dist-packages (from requests<3,>=2.21.0->tensorboard~=2.4->tensorflow-gpu==2.4.2) (3.0.4)\n",
            "Requirement already satisfied: idna<3,>=2.5 in /usr/local/lib/python3.7/dist-packages (from requests<3,>=2.21.0->tensorboard~=2.4->tensorflow-gpu==2.4.2) (2.10)\n",
            "Requirement already satisfied: certifi>=2017.4.17 in /usr/local/lib/python3.7/dist-packages (from requests<3,>=2.21.0->tensorboard~=2.4->tensorflow-gpu==2.4.2) (2021.5.30)\n",
            "Requirement already satisfied: urllib3!=1.25.0,!=1.25.1,<1.26,>=1.21.1 in /usr/local/lib/python3.7/dist-packages (from requests<3,>=2.21.0->tensorboard~=2.4->tensorflow-gpu==2.4.2) (1.24.3)\n",
            "Requirement already satisfied: oauthlib>=3.0.0 in /usr/local/lib/python3.7/dist-packages (from requests-oauthlib>=0.7.0->google-auth-oauthlib<0.5,>=0.4.1->tensorboard~=2.4->tensorflow-gpu==2.4.2) (3.1.1)\n",
            "Requirement already satisfied: zipp>=0.5 in /usr/local/lib/python3.7/dist-packages (from importlib-metadata->markdown>=2.6.8->tensorboard~=2.4->tensorflow-gpu==2.4.2) (3.5.0)\n",
            "Installing collected packages: grpcio, tensorflow-estimator, h5py, gast, tensorflow-gpu\n",
            "  Attempting uninstall: grpcio\n",
            "    Found existing installation: grpcio 1.34.1\n",
            "    Uninstalling grpcio-1.34.1:\n",
            "      Successfully uninstalled grpcio-1.34.1\n",
            "  Attempting uninstall: tensorflow-estimator\n",
            "    Found existing installation: tensorflow-estimator 2.5.0\n",
            "    Uninstalling tensorflow-estimator-2.5.0:\n",
            "      Successfully uninstalled tensorflow-estimator-2.5.0\n",
            "  Attempting uninstall: h5py\n",
            "    Found existing installation: h5py 3.1.0\n",
            "    Uninstalling h5py-3.1.0:\n",
            "      Successfully uninstalled h5py-3.1.0\n",
            "  Attempting uninstall: gast\n",
            "    Found existing installation: gast 0.4.0\n",
            "    Uninstalling gast-0.4.0:\n",
            "      Successfully uninstalled gast-0.4.0\n",
            "\u001b[31mERROR: pip's dependency resolver does not currently take into account all the packages that are installed. This behaviour is the source of the following dependency conflicts.\n",
            "tensorflow 2.5.0 requires gast==0.4.0, but you have gast 0.3.3 which is incompatible.\n",
            "tensorflow 2.5.0 requires grpcio~=1.34.0, but you have grpcio 1.32.0 which is incompatible.\n",
            "tensorflow 2.5.0 requires h5py~=3.1.0, but you have h5py 2.10.0 which is incompatible.\n",
            "tensorflow 2.5.0 requires tensorflow-estimator<2.6.0,>=2.5.0rc0, but you have tensorflow-estimator 2.4.0 which is incompatible.\u001b[0m\n",
            "Successfully installed gast-0.3.3 grpcio-1.32.0 h5py-2.10.0 tensorflow-estimator-2.4.0 tensorflow-gpu-2.4.2\n",
            "Collecting opencv-python==4.1.1.26\n",
            "  Downloading opencv_python-4.1.1.26-cp37-cp37m-manylinux1_x86_64.whl (28.7 MB)\n",
            "\u001b[K     |████████████████████████████████| 28.7 MB 40 kB/s \n",
            "\u001b[?25hRequirement already satisfied: numpy>=1.14.5 in /usr/local/lib/python3.7/dist-packages (from opencv-python==4.1.1.26) (1.19.5)\n",
            "Installing collected packages: opencv-python\n",
            "  Attempting uninstall: opencv-python\n",
            "    Found existing installation: opencv-python 4.1.2.30\n",
            "    Uninstalling opencv-python-4.1.2.30:\n",
            "      Successfully uninstalled opencv-python-4.1.2.30\n",
            "\u001b[31mERROR: pip's dependency resolver does not currently take into account all the packages that are installed. This behaviour is the source of the following dependency conflicts.\n",
            "albumentations 0.1.12 requires imgaug<0.2.7,>=0.2.5, but you have imgaug 0.2.9 which is incompatible.\u001b[0m\n",
            "Successfully installed opencv-python-4.1.1.26\n",
            "Requirement already satisfied: lxml in /usr/local/lib/python3.7/dist-packages (4.2.6)\n",
            "Requirement already satisfied: tqdm in /usr/local/lib/python3.7/dist-packages (4.62.0)\n"
          ],
          "name": "stdout"
        }
      ]
    },
    {
      "cell_type": "markdown",
      "metadata": {
        "id": "SLeTUdMwPY1B"
      },
      "source": [
        "## **Import Dependencies**"
      ]
    },
    {
      "cell_type": "code",
      "metadata": {
        "id": "ejSfmNpOtxJ6"
      },
      "source": [
        "import zipfile\n",
        "import os\n",
        "import random\n",
        "import numpy as np\n",
        "from absl import logging\n",
        "from absl.flags import FLAGS\n",
        "\n",
        "import time\n",
        "#hashlib helps to encypt the data so that data does not get changes while parsing\n",
        "import hashlib\n",
        "\n",
        "import lxml.etree # to process xml tree structure in Pascal Voc annot files\n",
        "import tqdm\n",
        "\n",
        "from IPython.display import Image\n",
        "import cv2\n",
        "\n",
        "from sklearn.model_selection import train_test_split\n",
        "\n",
        "import tensorflow as tf\n",
        "from tensorflow.keras import Model\n",
        "from tensorflow.keras.layers import (\n",
        "    Add,\n",
        "    Concatenate,\n",
        "    Conv2D,\n",
        "    Input,\n",
        "    Lambda,\n",
        "    LeakyReLU,\n",
        "    MaxPool2D,\n",
        "    UpSampling2D,\n",
        "    ZeroPadding2D,\n",
        "    BatchNormalization,\n",
        ")\n",
        "from tensorflow.keras.regularizers import l2\n",
        "from tensorflow.keras.losses import (\n",
        "    binary_crossentropy,\n",
        "    sparse_categorical_crossentropy\n",
        ")\n",
        "\n",
        "from tensorflow.keras.callbacks import (\n",
        "    ReduceLROnPlateau,\n",
        "    EarlyStopping,\n",
        "    ModelCheckpoint,\n",
        "    TensorBoard\n",
        ")\n",
        "\n",
        "#flags can be used to define or initialize the configuration variable throughout the pipeline\n",
        "from absl import app, flags, logging\n",
        "\n",
        "#from .utils import broadcast_iou"
      ],
      "execution_count": 2,
      "outputs": []
    },
    {
      "cell_type": "markdown",
      "metadata": {
        "id": "qoDixLF1Rv1E"
      },
      "source": [
        "## **Mount Drive**\n",
        "\n",
        "Drive mail_id: hazrasayan2020@gmail.com"
      ]
    },
    {
      "cell_type": "code",
      "metadata": {
        "colab": {
          "base_uri": "https://localhost:8080/"
        },
        "id": "0nfW1jreQumT",
        "outputId": "346e3831-00af-473d-c0df-9451780463a7"
      },
      "source": [
        "from google.colab import drive\n",
        "\n",
        "drive.mount('/content/drive/')"
      ],
      "execution_count": 3,
      "outputs": [
        {
          "output_type": "stream",
          "text": [
            "Mounted at /content/drive/\n"
          ],
          "name": "stdout"
        }
      ]
    },
    {
      "cell_type": "markdown",
      "metadata": {
        "id": "kS3osD1JTCrO"
      },
      "source": [
        "## **Environment Setup**"
      ]
    },
    {
      "cell_type": "markdown",
      "metadata": {
        "id": "SaqzkCgkTHHW"
      },
      "source": [
        "**Improve Reproducibility**"
      ]
    },
    {
      "cell_type": "code",
      "metadata": {
        "id": "VuXx5WnkSqfT"
      },
      "source": [
        "# improve reproducibility and make it more deterministic\n",
        "os.environ['TF_CUDNN_DETEREMINISTIC'] = '1'\n",
        "random.seed(hash('setting random seeds') % 2**32 -1)\n",
        "np.random.seed(hash(\"improves reproducibility\") % 2**32 - 1)\n",
        "tf.random.set_seed(hash('by removing stochasticity')% 2**32 -1)"
      ],
      "execution_count": 4,
      "outputs": []
    },
    {
      "cell_type": "markdown",
      "metadata": {
        "id": "nBGJC0TAUVMx"
      },
      "source": [
        "**GPU Utilization**"
      ]
    },
    {
      "cell_type": "code",
      "metadata": {
        "colab": {
          "base_uri": "https://localhost:8080/"
        },
        "id": "x-zVCSF_UFVr",
        "outputId": "9dc99ec4-b0d9-4c75-f617-a3910939c8ca"
      },
      "source": [
        "# system setup \n",
        "from tensorflow.python.client import device_lib\n",
        "\n",
        "device_lib.list_local_devices()"
      ],
      "execution_count": 5,
      "outputs": [
        {
          "output_type": "execute_result",
          "data": {
            "text/plain": [
              "[name: \"/device:CPU:0\"\n",
              " device_type: \"CPU\"\n",
              " memory_limit: 268435456\n",
              " locality {\n",
              " }\n",
              " incarnation: 16869359781194878577, name: \"/device:GPU:0\"\n",
              " device_type: \"GPU\"\n",
              " memory_limit: 14646682624\n",
              " locality {\n",
              "   bus_id: 1\n",
              "   links {\n",
              "   }\n",
              " }\n",
              " incarnation: 8226736829652986833\n",
              " physical_device_desc: \"device: 0, name: Tesla T4, pci bus id: 0000:00:04.0, compute capability: 7.5\"]"
            ]
          },
          "metadata": {
            "tags": []
          },
          "execution_count": 5
        }
      ]
    },
    {
      "cell_type": "code",
      "metadata": {
        "colab": {
          "base_uri": "https://localhost:8080/"
        },
        "id": "cav5vdo2UuB6",
        "outputId": "b088dfd4-b988-496c-dcca-27ba7ddef7b4"
      },
      "source": [
        "# checking GPU utilization\n",
        "device = tf.test.gpu_device_name()\n",
        "if device != '/device:GPU:0':\n",
        "  raise SystemError('GPU device not found!')\n",
        "\n",
        "print(f'Found GPU at {device}')"
      ],
      "execution_count": 6,
      "outputs": [
        {
          "output_type": "stream",
          "text": [
            "Found GPU at /device:GPU:0\n"
          ],
          "name": "stdout"
        }
      ]
    },
    {
      "cell_type": "markdown",
      "metadata": {
        "id": "SLTdfSsBW-AG"
      },
      "source": [
        "## **Dataset Load**\n",
        "\n",
        "Load the HardHat Dataset zip from drive folder\n",
        "\n",
        "zip_path : \"/content/drive/MyDrive/HardHead Dataset/HardHat_Dataset.zip\""
      ]
    },
    {
      "cell_type": "markdown",
      "metadata": {
        "id": "G3dwZNtBXVQh"
      },
      "source": [
        "**Define unzipping function**"
      ]
    },
    {
      "cell_type": "code",
      "metadata": {
        "id": "XUjx_J1yVE27"
      },
      "source": [
        "def unzipping(src, dst):\n",
        "  if not os.path.isdir(dst):\n",
        "    os.mkdir(dst) # unzip path\n",
        "\n",
        "  # unzipping to dst\n",
        "  with zipfile.ZipFile(src, 'r') as zip_ref:\n",
        "    zip_ref.extractall(dst)"
      ],
      "execution_count": 7,
      "outputs": []
    },
    {
      "cell_type": "markdown",
      "metadata": {
        "id": "cl7VbkQ2X9ki"
      },
      "source": [
        "unzip the dataset zip file"
      ]
    },
    {
      "cell_type": "code",
      "metadata": {
        "id": "Dz8644t7X8VT"
      },
      "source": [
        "zip_path = '/content/drive/MyDrive/HardHead_Dataset/HardHat_Dataset.zip'\n",
        "dataset_path = 'Hardhat_dataset'\n",
        "\n",
        "# unzip\n",
        "#unzipping(zip_path, dataset_path)"
      ],
      "execution_count": 8,
      "outputs": []
    },
    {
      "cell_type": "markdown",
      "metadata": {
        "id": "jxEXqHI7mHuA"
      },
      "source": [
        "## **Data Preperation**\n",
        "\n",
        "Define class dictionary"
      ]
    },
    {
      "cell_type": "code",
      "metadata": {
        "colab": {
          "base_uri": "https://localhost:8080/"
        },
        "id": "Wx-CB6ctYb6G",
        "outputId": "036234c7-cd1d-4909-a436-7aa08b5dedf7"
      },
      "source": [
        "classifiers = ['helmet', 'head']\n",
        "\n",
        "id_list = [i for i in range(len(classifiers))]\n",
        "\n",
        "class_dict = dict(zip(classifiers, id_list))\n",
        "\n",
        "print(f'Class dictionary for hardhead dataset {class_dict}')"
      ],
      "execution_count": 9,
      "outputs": [
        {
          "output_type": "stream",
          "text": [
            "Class dictionary for hardhead dataset {'helmet': 0, 'head': 1}\n"
          ],
          "name": "stdout"
        }
      ]
    },
    {
      "cell_type": "markdown",
      "metadata": {
        "id": "_IkQE-pWoWFm"
      },
      "source": [
        "**Write classes.names text file to store the class list**"
      ]
    },
    {
      "cell_type": "code",
      "metadata": {
        "id": "hIUPh_zvoQdh"
      },
      "source": [
        "labels_str = '\\n'.join(sorted(class_dict.keys()))\n",
        "drive_path = '/content/drive/MyDrive/HardHead_Dataset/' \n",
        "\n",
        "# class file path(.names is a text file to store the object labels)\n",
        "class_path = os.path.join(drive_path, 'hardhat_classes.names')\n",
        "\n",
        "with open(class_path, 'w') as f:\n",
        " f.write(labels_str)"
      ],
      "execution_count": 10,
      "outputs": []
    },
    {
      "cell_type": "markdown",
      "metadata": {
        "id": "yfriVpyUyGiW"
      },
      "source": [
        "**Write image_names.txt file to store the image names present in the dataset**"
      ]
    },
    {
      "cell_type": "code",
      "metadata": {
        "id": "ZqswGqqoyDbE"
      },
      "source": [
        "img_list = os.listdir(os.path.join(dataset_path, 'images'))\n",
        "annot_list = os.listdir(os.path.join(dataset_path, 'annotations'))\n",
        "\n",
        "# verify lenght with annotation lenghts\n",
        "assert len(img_list) == len(annot_list)\n",
        "print(f'Total image samples in the dataset {len(img_list)}')\n",
        "\n",
        "img_file_path = os.path.join(drive_path, 'hardhat_image_names.txt')\n",
        "img_id_list = [id for id,_ in enumerate(img_list)]\n",
        "img_names = [img.split('.')[0] for img in img_list]\n",
        "print(f'Sample image  name: {img_names[0]}')\n",
        "\n",
        "img_dict = dict(zip(img_names, img_id_list))\n",
        "\n",
        "imgs_str = '\\n'.join(sorted(img_dict.keys()))\n",
        "\n",
        "# image names file path\n",
        "with open(img_file_path, 'w') as f:\n",
        " f.write(imgs_str)"
      ],
      "execution_count": null,
      "outputs": []
    },
    {
      "cell_type": "markdown",
      "metadata": {
        "id": "WdUhxhartMCj"
      },
      "source": [
        "#### **Prepare TfRecords**"
      ]
    },
    {
      "cell_type": "markdown",
      "metadata": {
        "id": "xnyI-GUitXM1"
      },
      "source": [
        "**Function to build the tf-records from annotaion files and images**"
      ]
    },
    {
      "cell_type": "code",
      "metadata": {
        "id": "pXg5FMGatd2Y"
      },
      "source": [
        "def build_example(data_dir, annotation, class_map):\n",
        "    img_path = os.path.join(\n",
        "        data_dir, 'images', annotation['filename'])\n",
        "    img_raw = open(img_path, 'rb').read()\n",
        "    # encrypt images\n",
        "    key = hashlib.sha256(img_raw).hexdigest()\n",
        "\n",
        "    width = int(annotation['size']['width'])\n",
        "    height = int(annotation['size']['height'])\n",
        "\n",
        "    xmin = []\n",
        "    ymin = []\n",
        "    xmax = []\n",
        "    ymax = []\n",
        "    classes = []\n",
        "    classes_text = []\n",
        "    truncated = []\n",
        "    views = []\n",
        "    difficult_obj = []\n",
        "    if 'object' in annotation:\n",
        "        for obj in annotation['object']:\n",
        "            if obj['name'] in class_map:\n",
        "              difficult = bool(int(obj['difficult']))\n",
        "              difficult_obj.append(int(difficult))\n",
        "\n",
        "              xmin.append(float(obj['bndbox']['xmin']) / width)\n",
        "              ymin.append(float(obj['bndbox']['ymin']) / height)\n",
        "              xmax.append(float(obj['bndbox']['xmax']) / width)\n",
        "              ymax.append(float(obj['bndbox']['ymax']) / height)\n",
        "              classes_text.append(obj['name'].encode('utf8'))\n",
        "              classes.append(class_map[obj['name']])\n",
        "              truncated.append(int(obj['truncated']))\n",
        "              views.append(obj['pose'].encode('utf8'))\n",
        "            \n",
        "            #else:\n",
        "              #print('Object class {0} is skipped'.format(obj['name']))\n",
        "            #  continue\n",
        "\n",
        "    example = tf.train.Example(features=tf.train.Features(feature={\n",
        "        'image/height': tf.train.Feature(int64_list=tf.train.Int64List(value=[height])),\n",
        "        'image/width': tf.train.Feature(int64_list=tf.train.Int64List(value=[width])),\n",
        "        'image/filename': tf.train.Feature(bytes_list=tf.train.BytesList(value=[\n",
        "            annotation['filename'].encode('utf8')])),\n",
        "        'image/source_id': tf.train.Feature(bytes_list=tf.train.BytesList(value=[\n",
        "            annotation['filename'].encode('utf8')])),\n",
        "        'image/key/sha256': tf.train.Feature(bytes_list=tf.train.BytesList(value=[key.encode('utf8')])),\n",
        "        'image/encoded': tf.train.Feature(bytes_list=tf.train.BytesList(value=[img_raw])),\n",
        "        'image/format': tf.train.Feature(bytes_list=tf.train.BytesList(value=['jpeg'.encode('utf8')])),\n",
        "        'image/object/bbox/xmin': tf.train.Feature(float_list=tf.train.FloatList(value=xmin)),\n",
        "        'image/object/bbox/xmax': tf.train.Feature(float_list=tf.train.FloatList(value=xmax)),\n",
        "        'image/object/bbox/ymin': tf.train.Feature(float_list=tf.train.FloatList(value=ymin)),\n",
        "        'image/object/bbox/ymax': tf.train.Feature(float_list=tf.train.FloatList(value=ymax)),\n",
        "        'image/object/class/text': tf.train.Feature(bytes_list=tf.train.BytesList(value=classes_text)),\n",
        "        'image/object/class/label': tf.train.Feature(int64_list=tf.train.Int64List(value=classes)),\n",
        "        'image/object/difficult': tf.train.Feature(int64_list=tf.train.Int64List(value=difficult_obj)),\n",
        "        'image/object/truncated': tf.train.Feature(int64_list=tf.train.Int64List(value=truncated)),\n",
        "        'image/object/view': tf.train.Feature(bytes_list=tf.train.BytesList(value=views)),\n",
        "    }))\n",
        "    return example\n"
      ],
      "execution_count": 12,
      "outputs": []
    },
    {
      "cell_type": "markdown",
      "metadata": {
        "id": "9cci6-s8vIL0"
      },
      "source": [
        "**Define function to parse xml annotations**"
      ]
    },
    {
      "cell_type": "code",
      "metadata": {
        "id": "LETyG5_qvPS5"
      },
      "source": [
        "def parse_xml(xml):\n",
        "    if not len(xml):\n",
        "        return {xml.tag: xml.text}\n",
        "    result = {}\n",
        "    for child in xml:\n",
        "        child_result = parse_xml(child)\n",
        "        if child.tag != 'object':\n",
        "            result[child.tag] = child_result[child.tag]\n",
        "        else:\n",
        "            if child.tag not in result:\n",
        "                result[child.tag] = []\n",
        "            result[child.tag].append(child_result[child.tag])\n",
        "    return {xml.tag: result}"
      ],
      "execution_count": null,
      "outputs": []
    },
    {
      "cell_type": "markdown",
      "metadata": {
        "id": "m_iRdVJhweAB"
      },
      "source": [
        "**Class map**"
      ]
    },
    {
      "cell_type": "code",
      "metadata": {
        "colab": {
          "base_uri": "https://localhost:8080/"
        },
        "id": "u468xmlUonKf",
        "outputId": "b48f2632-b47d-456e-b7e7-ec180b98664b"
      },
      "source": [
        "class_map = {name: idx for idx, name in enumerate(\n",
        "    open(class_path).read().splitlines())}\n",
        "print(f'Class mapping loaded: {class_map}')"
      ],
      "execution_count": 11,
      "outputs": [
        {
          "output_type": "stream",
          "text": [
            "Class mapping loaded: {'head': 0, 'helmet': 1}\n"
          ],
          "name": "stdout"
        }
      ]
    },
    {
      "cell_type": "markdown",
      "metadata": {
        "id": "xIpxK_0gwgLx"
      },
      "source": [
        "**Fetch image list**"
      ]
    },
    {
      "cell_type": "code",
      "metadata": {
        "id": "ek068M_tp5fO"
      },
      "source": [
        "image_list = open(img_file_path).read().splitlines()\n",
        "print(\"Image list loaded: \", len(image_list))"
      ],
      "execution_count": null,
      "outputs": []
    },
    {
      "cell_type": "markdown",
      "metadata": {
        "id": "4G2MXpmDVxYO"
      },
      "source": [
        "**Split train and validation data with split_ratio = [0.95:0.05]**"
      ]
    },
    {
      "cell_type": "code",
      "metadata": {
        "colab": {
          "base_uri": "https://localhost:8080/"
        },
        "id": "rvCyruBAVw8G",
        "outputId": "f58f973e-49d6-43bb-dd98-ebb1dc242eaf"
      },
      "source": [
        "# train, valid split\n",
        "train_imgs, valid_imgs, train_annots, valid_annots = train_test_split(img_names, annot_list,\n",
        "                                                                      test_size = 0.05,\n",
        "                                                                      shuffle = True)\n",
        "\n",
        "assert len(train_imgs) == len(train_annots)\n",
        "assert len(valid_imgs) == len(valid_annots)\n",
        "\n",
        "print(f'Total training smaples {len(train_imgs)}')\n",
        "print(f'Total validation smaples {len(valid_imgs)}')"
      ],
      "execution_count": null,
      "outputs": [
        {
          "output_type": "stream",
          "text": [
            "Total training smaples 4512\n",
            "Total validation smaples 238\n"
          ],
          "name": "stdout"
        }
      ]
    },
    {
      "cell_type": "markdown",
      "metadata": {
        "id": "mwARt9py31a3"
      },
      "source": [
        "#### **Create Tfrecords**"
      ]
    },
    {
      "cell_type": "markdown",
      "metadata": {
        "id": "RwDH2W9OTPK0"
      },
      "source": [
        "TFrecords metadata"
      ]
    },
    {
      "cell_type": "code",
      "metadata": {
        "id": "KrLYdYx6TRXt"
      },
      "source": [
        "# max bounding boxes in the image\n",
        "max_bbox = 100"
      ],
      "execution_count": 12,
      "outputs": []
    },
    {
      "cell_type": "markdown",
      "metadata": {
        "id": "PmZIZWQNNnOI"
      },
      "source": [
        "**Create TrainTfrecords**\n",
        "\n",
        "Define functions to tfrecord creation steps"
      ]
    },
    {
      "cell_type": "code",
      "metadata": {
        "id": "scwSrPlPYpMb"
      },
      "source": [
        "def tfrecord_steps(image_list, tfrecord_path):\n",
        "  # writer object\n",
        "  writer = tf.io.TFRecordWriter(tfrecord_path)\n",
        "\n",
        "  for name in tqdm.tqdm(image_list):\n",
        "    annotation_xml = os.path.join(dataset_path, 'annotations', name + '.xml')\n",
        "    # read annotation files\n",
        "    annotation_xml = lxml.etree.fromstring(open(annotation_xml).read())\n",
        "    # parse the annotation xml\n",
        "    annotation = parse_xml(annotation_xml)['annotation']\n",
        "    #print(annotation)\n",
        "    # build tfrecords\n",
        "    tf_example = build_example(dataset_path, annotation, class_map)\n",
        "    writer.write(tf_example.SerializeToString())\n",
        "\n",
        "  writer.close()\n",
        "  print('Tfrecord conversion is Done!\\n')"
      ],
      "execution_count": 13,
      "outputs": []
    },
    {
      "cell_type": "markdown",
      "metadata": {
        "id": "NG-Ejy-aYw4h"
      },
      "source": [
        "Create train and valid record"
      ]
    },
    {
      "cell_type": "code",
      "metadata": {
        "colab": {
          "base_uri": "https://localhost:8080/"
        },
        "id": "bEh6m3PF3Pzw",
        "outputId": "762cc8c5-71cc-4758-af1b-cc87d0741b80"
      },
      "source": [
        "# define tfrecords metadata train\n",
        "train_record = os.path.join(drive_path, 'hardhat_train.tfrecord')\n",
        "tfrecord_steps(train_imgs, train_record)\n",
        "\n",
        "# define tfrecords metadata valid\n",
        "valid_record = os.path.join(drive_path, 'hardhat_valid.tfrecord')\n",
        "tfrecord_steps(valid_imgs, valid_record)"
      ],
      "execution_count": null,
      "outputs": [
        {
          "output_type": "stream",
          "text": [
            "100%|██████████| 4512/4512 [00:23<00:00, 194.82it/s]\n"
          ],
          "name": "stderr"
        },
        {
          "output_type": "stream",
          "text": [
            "Tfrecord conversion is Done!\n",
            "\n"
          ],
          "name": "stdout"
        },
        {
          "output_type": "stream",
          "text": [
            "100%|██████████| 238/238 [00:00<00:00, 367.73it/s]"
          ],
          "name": "stderr"
        },
        {
          "output_type": "stream",
          "text": [
            "Tfrecord conversion is Done!\n",
            "\n"
          ],
          "name": "stdout"
        },
        {
          "output_type": "stream",
          "text": [
            "\n"
          ],
          "name": "stderr"
        }
      ]
    },
    {
      "cell_type": "markdown",
      "metadata": {
        "id": "1e0sRAuvZxwC"
      },
      "source": [
        "#### **Load TfRceords**"
      ]
    },
    {
      "cell_type": "code",
      "metadata": {
        "id": "jRTAavaUAdBK"
      },
      "source": [
        "# https://github.com/tensorflow/models/blob/master/research/object_detection/g3doc/using_your_own_dataset.md#conversion-script-outline-conversion-script-outline\n",
        "# Commented out fields are not required in our project\n",
        "IMAGE_FEATURE_MAP = {\n",
        "    # 'image/width': tf.io.FixedLenFeature([], tf.int64),\n",
        "    # 'image/height': tf.io.FixedLenFeature([], tf.int64),\n",
        "    # 'image/filename': tf.io.FixedLenFeature([], tf.string),\n",
        "    # 'image/source_id': tf.io.FixedLenFeature([], tf.string),\n",
        "    # 'image/key/sha256': tf.io.FixedLenFeature([], tf.string),\n",
        "    'image/encoded': tf.io.FixedLenFeature([], tf.string),\n",
        "    # 'image/format': tf.io.FixedLenFeature([], tf.string),\n",
        "    'image/object/bbox/xmin': tf.io.VarLenFeature(tf.float32),\n",
        "    'image/object/bbox/ymin': tf.io.VarLenFeature(tf.float32),\n",
        "    'image/object/bbox/xmax': tf.io.VarLenFeature(tf.float32),\n",
        "    'image/object/bbox/ymax': tf.io.VarLenFeature(tf.float32),\n",
        "    'image/object/class/text': tf.io.VarLenFeature(tf.string),\n",
        "    # 'image/object/class/label': tf.io.VarLenFeature(tf.int64),\n",
        "    # 'image/object/difficult': tf.io.VarLenFeature(tf.int64),\n",
        "    # 'image/object/truncated': tf.io.VarLenFeature(tf.int64),\n",
        "    # 'image/object/view': tf.io.VarLenFeature(tf.string),\n",
        "}"
      ],
      "execution_count": null,
      "outputs": []
    },
    {
      "cell_type": "markdown",
      "metadata": {
        "id": "HqwOYc8bJG9F"
      },
      "source": [
        "Parse tfrecord"
      ]
    },
    {
      "cell_type": "code",
      "metadata": {
        "id": "8ZgxAwMj_7ES"
      },
      "source": [
        "def parse_tfrecord(tfrecord, class_table, size):\n",
        "    x = tf.io.parse_single_example(tfrecord, IMAGE_FEATURE_MAP)\n",
        "    x_train = tf.image.decode_jpeg(x['image/encoded'], channels=3)\n",
        "    x_train = tf.image.resize(x_train, (size, size))\n",
        "\n",
        "    class_text = tf.sparse.to_dense(\n",
        "        x['image/object/class/text'], default_value='')\n",
        "    labels = tf.cast(class_table.lookup(class_text), tf.float32)\n",
        "    y_train = tf.stack([tf.sparse.to_dense(x['image/object/bbox/xmin']),\n",
        "                        tf.sparse.to_dense(x['image/object/bbox/ymin']),\n",
        "                        tf.sparse.to_dense(x['image/object/bbox/xmax']),\n",
        "                        tf.sparse.to_dense(x['image/object/bbox/ymax']),\n",
        "                        labels], axis=1)\n",
        "\n",
        "    paddings = [[0, max_bbox - tf.shape(y_train)[0]], [0, 0]]\n",
        "    y_train = tf.pad(y_train, paddings)\n",
        "\n",
        "    return x_train, y_train"
      ],
      "execution_count": null,
      "outputs": []
    },
    {
      "cell_type": "code",
      "metadata": {
        "id": "95j0X1xH-bSh"
      },
      "source": [
        "def load_tfrecord_dataset(file_pattern, class_file, size = 416):\n",
        "  # line number\n",
        "  LINE_NUMBER = tf.lookup.TextFileIndex.LINE_NUMBER\n",
        "  class_table = tf.lookup.StaticHashTable(tf.lookup.TextFileInitializer(\n",
        "      class_file, tf.string, 0, tf.int64, LINE_NUMBER, delimiter = \"\\n\"), -1)\n",
        "  \n",
        "  files = tf.data.Dataset.list_files(file_pattern)\n",
        "  dataset = files.flat_map(tf.data.TFRecordDataset)\n",
        "  return dataset.map(lambda x: parse_tfrecord(x, class_table, size))"
      ],
      "execution_count": null,
      "outputs": []
    },
    {
      "cell_type": "markdown",
      "metadata": {
        "id": "7azk8KB1910n"
      },
      "source": [
        "**Visualize TfRecord**\n",
        "\n",
        "Visualize the sample tfrecord"
      ]
    },
    {
      "cell_type": "code",
      "metadata": {
        "id": "RDUbf_PcNNYz"
      },
      "source": [
        "# draw results on outputs\n",
        "def draw_outputs(img, outputs, class_names):\n",
        "    #print(class_names)\n",
        "    boxes, objectness, classes, nums = outputs\n",
        "    boxes, objectness, classes, nums = boxes[0], objectness[0], classes[0], nums[0]\n",
        "    #print(classes)\n",
        "    wh = np.flip(img.shape[0:2])\n",
        "    for i in range(nums):\n",
        "        x1y1 = tuple((np.array(boxes[i][0:2]) * wh).astype(np.int32))\n",
        "        x2y2 = tuple((np.array(boxes[i][2:4]) * wh).astype(np.int32))\n",
        "        img = cv2.rectangle(img, x1y1, x2y2, (255, 0, 0), 2)\n",
        "        img = cv2.putText(img, '{} {:.4f}'.format(\n",
        "            class_names[int(classes[i])], objectness[i]),\n",
        "            x1y1, cv2.FONT_HERSHEY_COMPLEX_SMALL, 1, (0, 0, 255), 2)\n",
        "    return img"
      ],
      "execution_count": 15,
      "outputs": []
    },
    {
      "cell_type": "code",
      "metadata": {
        "colab": {
          "base_uri": "https://localhost:8080/"
        },
        "id": "9u8cstdgLmH5",
        "outputId": "71ca10fe-9b85-4fa4-c15a-551f8595d9f2"
      },
      "source": [
        "# load class names\n",
        "class_names = open(class_path).read().split('\\n')\n",
        "print(f'Class names loaded for visualization- {class_names}')\n",
        "\n",
        "# load the train tefrecord\n",
        "#tfrecord_train_path = os.path.join(drive_path, 'hardhat_train.tfrecord')\n",
        "#dataset = load_tfrecord_dataset(tfrecord_train_path, class_path, 416)"
      ],
      "execution_count": 16,
      "outputs": [
        {
          "output_type": "stream",
          "text": [
            "Class names loaded for visualization- ['head', 'helmet']\n"
          ],
          "name": "stdout"
        }
      ]
    },
    {
      "cell_type": "code",
      "metadata": {
        "id": "Jne30WY_AOAb"
      },
      "source": [
        "# shufle the dataset with buffer size 512\n",
        "dataset = dataset.shuffle(512)\n",
        "\n",
        "# traverse through the images(pass single image for visualization)\n",
        "for image, labels in dataset.take(1):\n",
        "    print(f'Total object fiels in the image {len(labels)}') # it defines each image can contain 20 objects\n",
        "    # so the labels return the 20 possibilities in the image\n",
        "    boxes = [] # list that stores box infos for each image\n",
        "    scores = [] # object prediction scores\n",
        "    classes = [] # classes list of objects\n",
        "    for x1, y1, x2, y2, label in labels:\n",
        "        if x1 == 0 and x2 == 0:\n",
        "            continue\n",
        "\n",
        "        boxes.append((x1, y1, x2, y2))\n",
        "        scores.append(1)\n",
        "        classes.append(label)\n",
        "    \n",
        "    nums = [len(boxes)]\n",
        "    boxes = [boxes]\n",
        "    scores = [scores]\n",
        "    classes = [classes]\n",
        "    print(f'Total objects in the image {nums[0]}')\n",
        "    #print(classes)\n",
        "    logging.info('labels:')\n",
        "    \n",
        "    for i in range(nums[0]):\n",
        "        logging.info('\\t{}, {}, {}'.format(class_names[int(classes[0][i])],\n",
        "                                            np.array(scores[0][i]),\n",
        "                                            np.array(boxes[0][i])))\n",
        "\n",
        "    \n",
        "    img = cv2.cvtColor(image.numpy(), cv2.COLOR_RGB2BGR)\n",
        "    img = draw_outputs(img, (boxes, scores, classes, nums), class_names)\n",
        "    cv2.imwrite('new.jpg', img)\n",
        "    #logging.info('output saved to: {}'.format(FLAGS.output))\n",
        "\n",
        "Image(filename = '/content/new.jpg')"
      ],
      "execution_count": null,
      "outputs": []
    },
    {
      "cell_type": "markdown",
      "metadata": {
        "id": "HLnHg1vByzYm"
      },
      "source": [
        "## **Model Building and Load Pre-trained weights**\n",
        "\n",
        "Load YoloV3 pretrained weights"
      ]
    },
    {
      "cell_type": "code",
      "metadata": {
        "id": "EYqWnmrDEMta",
        "colab": {
          "base_uri": "https://localhost:8080/"
        },
        "outputId": "2c8bbed0-0a74-4aaf-c2f8-79248dde16a3"
      },
      "source": [
        "# create model folder in drive path\n",
        "model_path = os.path.join(drive_path, 'models')\n",
        "\n",
        "if not os.path.isdir(model_path):\n",
        "  os.mkdir(model_path)\n",
        "\n",
        "# download yolov3 weights\n",
        "!wget https://pjreddie.com/media/files/yolov3.weights -O /content/drive/MyDrive/HardHead_Dataset/models/yolov3.weights"
      ],
      "execution_count": 17,
      "outputs": [
        {
          "output_type": "stream",
          "text": [
            "--2021-08-16 07:44:25--  https://pjreddie.com/media/files/yolov3.weights\n",
            "Resolving pjreddie.com (pjreddie.com)... 128.208.4.108\n",
            "Connecting to pjreddie.com (pjreddie.com)|128.208.4.108|:443... connected.\n",
            "HTTP request sent, awaiting response... 200 OK\n",
            "Length: 248007048 (237M) [application/octet-stream]\n",
            "Saving to: ‘/content/drive/MyDrive/HardHead_Dataset/models/yolov3.weights’\n",
            "\n",
            "/content/drive/MyDr 100%[===================>] 236.52M  19.6MB/s    in 14s     \n",
            "\n",
            "2021-08-16 07:44:40 (17.0 MB/s) - ‘/content/drive/MyDrive/HardHead_Dataset/models/yolov3.weights’ saved [248007048/248007048]\n",
            "\n"
          ],
          "name": "stdout"
        }
      ]
    },
    {
      "cell_type": "markdown",
      "metadata": {
        "id": "TKioOfb6_kYO"
      },
      "source": [
        "#### **Convert Pre-trained Darknet Weight**"
      ]
    },
    {
      "cell_type": "markdown",
      "metadata": {
        "id": "51WB2x8YKM_f"
      },
      "source": [
        "**Define Darknet Model and it's components(as Darknet Used as YoloV3 Backend**"
      ]
    },
    {
      "cell_type": "code",
      "metadata": {
        "id": "mmVF3Qt8KMk8"
      },
      "source": [
        "# define Darknet Convolution layer(Darknet used as Yolov3 backend)\n",
        "def DarknetConv(x, filters, size, strides=1, batch_norm=True):\n",
        "    if strides == 1:\n",
        "        padding = 'same'\n",
        "    else:\n",
        "        x = ZeroPadding2D(((1, 0), (1, 0)))(x)  # top left half-padding\n",
        "        padding = 'valid'\n",
        "    x = Conv2D(filters=filters, kernel_size=size,\n",
        "               strides=strides, padding=padding,\n",
        "               use_bias=not batch_norm, kernel_regularizer=l2(0.0005))(x)\n",
        "    if batch_norm:\n",
        "        x = BatchNormalization()(x)\n",
        "        x = LeakyReLU(alpha=0.1)(x)\n",
        "    return x\n",
        "\n",
        "# Define Draknet Residual layer\n",
        "def DarknetResidual(x, filters):\n",
        "    prev = x\n",
        "    x = DarknetConv(x, filters // 2, 1)\n",
        "    x = DarknetConv(x, filters, 3)\n",
        "    x = Add()([prev, x])\n",
        "    return x\n",
        "\n",
        "# Define Darknet Block\n",
        "def DarknetBlock(x, filters, blocks):\n",
        "    x = DarknetConv(x, filters, 3, strides=2)\n",
        "    for _ in range(blocks):\n",
        "        x = DarknetResidual(x, filters)\n",
        "    return x\n",
        "\n",
        "\n",
        "# Define Darknet Model\n",
        "def Darknet(name=None):\n",
        "    x = inputs = Input([None, None, 3])\n",
        "    x = DarknetConv(x, 32, 3)\n",
        "    x = DarknetBlock(x, 64, 1)\n",
        "    x = DarknetBlock(x, 128, 2)  # skip connection\n",
        "    x = x_36 = DarknetBlock(x, 256, 8)  # skip connection\n",
        "    x = x_61 = DarknetBlock(x, 512, 8)\n",
        "    x = DarknetBlock(x, 1024, 4)\n",
        "    return tf.keras.Model(inputs, (x_36, x_61, x), name=name)"
      ],
      "execution_count": 18,
      "outputs": []
    },
    {
      "cell_type": "markdown",
      "metadata": {
        "id": "8wVTvfEeVAOR"
      },
      "source": [
        "**Define YoloV3 Model**\n"
      ]
    },
    {
      "cell_type": "code",
      "metadata": {
        "id": "OUcqhnElXMwN"
      },
      "source": [
        "'''\n",
        "Define metadata for YoloV3\n",
        "'''\n",
        "#define different Yolo anchors\n",
        "yolo_anchors = np.array([(10, 13), (16, 30), (33, 23), (30, 61), (62, 45),\n",
        "                         (59, 119), (116, 90), (156, 198), (373, 326)],\n",
        "                        np.float32) / 416\n",
        "\n",
        "# Yolo anchor masks\n",
        "yolo_anchor_masks = np.array([[6, 7, 8], [3, 4, 5], [0, 1, 2]])\n",
        "\n",
        "# define yolo max boxes\n",
        "yolo_max_boxes = 100\n",
        "# yolo_iou_threshold\n",
        "yolo_iou_threshold = 0.5\n",
        "# yolo score threshold\n",
        "yolo_score_threshold = 0.5"
      ],
      "execution_count": 19,
      "outputs": []
    },
    {
      "cell_type": "markdown",
      "metadata": {
        "id": "d_84nIgpa5dn"
      },
      "source": [
        "YoloV3 Function Definition"
      ]
    },
    {
      "cell_type": "code",
      "metadata": {
        "id": "AwrhoC7IU_Nm"
      },
      "source": [
        "# define YoloConvolution layer\n",
        "def YoloConv(filters, name=None):\n",
        "    def yolo_conv(x_in):\n",
        "        if isinstance(x_in, tuple):\n",
        "            inputs = Input(x_in[0].shape[1:]), Input(x_in[1].shape[1:])\n",
        "            x, x_skip = inputs\n",
        "\n",
        "            # concat with skip connection\n",
        "            x = DarknetConv(x, filters, 1)\n",
        "            x = UpSampling2D(2)(x)\n",
        "            x = Concatenate()([x, x_skip])\n",
        "        else:\n",
        "            x = inputs = Input(x_in.shape[1:])\n",
        "\n",
        "        x = DarknetConv(x, filters, 1)\n",
        "        x = DarknetConv(x, filters * 2, 3)\n",
        "        x = DarknetConv(x, filters, 1)\n",
        "        x = DarknetConv(x, filters * 2, 3)\n",
        "        x = DarknetConv(x, filters, 1)\n",
        "        return Model(inputs, x, name=name)(x_in)\n",
        "    return yolo_conv\n",
        "\n",
        "# Define Yolo output\n",
        "def YoloOutput(filters, anchors, classes, name=None):\n",
        "    def yolo_output(x_in):\n",
        "        x = inputs = Input(x_in.shape[1:])\n",
        "        x = DarknetConv(x, filters * 2, 3)\n",
        "        x = DarknetConv(x, anchors * (classes + 5), 1, batch_norm=False)\n",
        "        x = Lambda(lambda x: tf.reshape(x, (-1, tf.shape(x)[1], tf.shape(x)[2],\n",
        "                                            anchors, classes + 5)))(x)\n",
        "        return tf.keras.Model(inputs, x, name=name)(x_in)\n",
        "    return yolo_output\n",
        "\n",
        "# As tensorflow lite doesn't support tf.size used in tf.meshgrid, \n",
        "# we reimplemented a simple meshgrid function that use basic tf function.\n",
        "def _meshgrid(n_a, n_b):\n",
        "\n",
        "    return [\n",
        "        tf.reshape(tf.tile(tf.range(n_a), [n_b]), (n_b, n_a)),\n",
        "        tf.reshape(tf.repeat(tf.range(n_b), n_a), (n_b, n_a))\n",
        "    ]\n",
        "\n",
        "# Define yoloboxes block\n",
        "def yolo_boxes(pred, anchors, classes):\n",
        "    # pred: (batch_size, grid, grid, anchors, (x, y, w, h, obj, ...classes))\n",
        "    grid_size = tf.shape(pred)[1:3]\n",
        "    box_xy, box_wh, objectness, class_probs = tf.split(\n",
        "        pred, (2, 2, 1, classes), axis=-1)\n",
        "\n",
        "    box_xy = tf.sigmoid(box_xy)\n",
        "    objectness = tf.sigmoid(objectness)\n",
        "    class_probs = tf.sigmoid(class_probs)\n",
        "    pred_box = tf.concat((box_xy, box_wh), axis=-1)  # original xywh for loss\n",
        "\n",
        "    # !!! grid[x][y] == (y, x)\n",
        "    grid = _meshgrid(grid_size[1],grid_size[0])\n",
        "    grid = tf.expand_dims(tf.stack(grid, axis=-1), axis=2)  # [gx, gy, 1, 2]\n",
        "\n",
        "    box_xy = (box_xy + tf.cast(grid, tf.float32)) / \\\n",
        "        tf.cast(grid_size, tf.float32)\n",
        "    box_wh = tf.exp(box_wh) * anchors\n",
        "\n",
        "    box_x1y1 = box_xy - box_wh / 2\n",
        "    box_x2y2 = box_xy + box_wh / 2\n",
        "    bbox = tf.concat([box_x1y1, box_x2y2], axis=-1)\n",
        "\n",
        "    return bbox, objectness, class_probs, pred_box\n",
        "\n",
        "# Define Yolo Non Max Suppression function\n",
        "def yolo_nms(outputs, anchors, masks, classes):\n",
        "    # boxes, conf, type\n",
        "    b, c, t = [], [], []\n",
        "\n",
        "    for o in outputs:\n",
        "        b.append(tf.reshape(o[0], (tf.shape(o[0])[0], -1, tf.shape(o[0])[-1])))\n",
        "        c.append(tf.reshape(o[1], (tf.shape(o[1])[0], -1, tf.shape(o[1])[-1])))\n",
        "        t.append(tf.reshape(o[2], (tf.shape(o[2])[0], -1, tf.shape(o[2])[-1])))\n",
        "\n",
        "    bbox = tf.concat(b, axis=1)\n",
        "    confidence = tf.concat(c, axis=1)\n",
        "    class_probs = tf.concat(t, axis=1)\n",
        "\n",
        "    scores = confidence * class_probs\n",
        "\n",
        "    dscores = tf.squeeze(scores, axis=0)\n",
        "    scores = tf.reduce_max(dscores,[1])\n",
        "    bbox = tf.reshape(bbox,(-1,4))\n",
        "    classes = tf.argmax(dscores,1)\n",
        "    selected_indices, selected_scores = tf.image.non_max_suppression_with_scores(\n",
        "        boxes=bbox,\n",
        "        scores=scores,\n",
        "        max_output_size=yolo_max_boxes,\n",
        "        iou_threshold=yolo_iou_threshold,\n",
        "        score_threshold=yolo_score_threshold,\n",
        "        soft_nms_sigma=0.5\n",
        "    )\n",
        "    \n",
        "    num_valid_nms_boxes = tf.shape(selected_indices)[0]\n",
        "\n",
        "    selected_indices = tf.concat([selected_indices,tf.zeros(yolo_max_boxes-num_valid_nms_boxes, tf.int32)], 0)\n",
        "    selected_scores = tf.concat([selected_scores,tf.zeros(yolo_max_boxes-num_valid_nms_boxes,tf.float32)], -1)\n",
        "\n",
        "    boxes=tf.gather(bbox, selected_indices)\n",
        "    boxes = tf.expand_dims(boxes, axis=0)\n",
        "    scores=selected_scores\n",
        "    scores = tf.expand_dims(scores, axis=0)\n",
        "    classes = tf.gather(classes,selected_indices)\n",
        "    classes = tf.expand_dims(classes, axis=0)\n",
        "    valid_detections=num_valid_nms_boxes\n",
        "    valid_detections = tf.expand_dims(valid_detections, axis=0)\n",
        "\n",
        "    return boxes, scores, classes, valid_detections\n",
        "\n",
        "# Define YoloV3 model\n",
        "def YoloV3(size=None, channels=3, anchors=yolo_anchors,\n",
        "           masks=yolo_anchor_masks, classes=80, training=False):\n",
        "    x = inputs = Input([size, size, channels], name='input')\n",
        "\n",
        "    x_36, x_61, x = Darknet(name='yolo_darknet')(x)\n",
        "\n",
        "    x = YoloConv(512, name='yolo_conv_0')(x)\n",
        "    output_0 = YoloOutput(512, len(masks[0]), classes, name='yolo_output_0')(x)\n",
        "\n",
        "    x = YoloConv(256, name='yolo_conv_1')((x, x_61))\n",
        "    output_1 = YoloOutput(256, len(masks[1]), classes, name='yolo_output_1')(x)\n",
        "\n",
        "    x = YoloConv(128, name='yolo_conv_2')((x, x_36))\n",
        "    output_2 = YoloOutput(128, len(masks[2]), classes, name='yolo_output_2')(x)\n",
        "\n",
        "    if training:\n",
        "        return Model(inputs, (output_0, output_1, output_2), name='yolov3')\n",
        "\n",
        "    boxes_0 = Lambda(lambda x: yolo_boxes(x, anchors[masks[0]], classes),\n",
        "                     name='yolo_boxes_0')(output_0)\n",
        "    boxes_1 = Lambda(lambda x: yolo_boxes(x, anchors[masks[1]], classes),\n",
        "                     name='yolo_boxes_1')(output_1)\n",
        "    boxes_2 = Lambda(lambda x: yolo_boxes(x, anchors[masks[2]], classes),\n",
        "                     name='yolo_boxes_2')(output_2)\n",
        "\n",
        "    outputs = Lambda(lambda x: yolo_nms(x, anchors, masks, classes),\n",
        "                     name='yolo_nms')((boxes_0[:3], boxes_1[:3], boxes_2[:3]))\n",
        "\n",
        "    return Model(inputs, outputs, name='yolov3')"
      ],
      "execution_count": 20,
      "outputs": []
    },
    {
      "cell_type": "markdown",
      "metadata": {
        "id": "CptWFBJ-BFwG"
      },
      "source": [
        "Define function to load Yolo model"
      ]
    },
    {
      "cell_type": "code",
      "metadata": {
        "id": "iZU6O1_NeQ_O"
      },
      "source": [
        "\n",
        "YOLOV3_LAYER_LIST = [\n",
        "    'yolo_darknet',\n",
        "    'yolo_conv_0',\n",
        "    'yolo_output_0',\n",
        "    'yolo_conv_1',\n",
        "    'yolo_output_1',\n",
        "    'yolo_conv_2',\n",
        "    'yolo_output_2',\n",
        "]\n",
        "\n",
        "def load_darknet_weights(model, weights_file, tiny=False):\n",
        "    wf = open(weights_file, 'rb')\n",
        "    major, minor, revision, seen, _ = np.fromfile(wf, dtype=np.int32, count=5)\n",
        "\n",
        "    if tiny:\n",
        "        layers = YOLOV3_TINY_LAYER_LIST\n",
        "    else:\n",
        "        layers = YOLOV3_LAYER_LIST\n",
        "\n",
        "    for layer_name in layers:\n",
        "        sub_model = model.get_layer(layer_name)\n",
        "        for i, layer in enumerate(sub_model.layers):\n",
        "            if not layer.name.startswith('conv2d'):\n",
        "                continue\n",
        "            batch_norm = None\n",
        "            if i + 1 < len(sub_model.layers) and \\\n",
        "                    sub_model.layers[i + 1].name.startswith('batch_norm'):\n",
        "                batch_norm = sub_model.layers[i + 1]\n",
        "\n",
        "            logging.info(\"{}/{} {}\".format(\n",
        "                sub_model.name, layer.name, 'bn' if batch_norm else 'bias'))\n",
        "\n",
        "            filters = layer.filters\n",
        "            size = layer.kernel_size[0]\n",
        "            in_dim = layer.get_input_shape_at(0)[-1]\n",
        "\n",
        "            if batch_norm is None:\n",
        "                conv_bias = np.fromfile(wf, dtype=np.float32, count=filters)\n",
        "            else:\n",
        "                # darknet [beta, gamma, mean, variance]\n",
        "                bn_weights = np.fromfile(\n",
        "                    wf, dtype=np.float32, count=4 * filters)\n",
        "                # tf [gamma, beta, mean, variance]\n",
        "                bn_weights = bn_weights.reshape((4, filters))[[1, 0, 2, 3]]\n",
        "\n",
        "            # darknet shape (out_dim, in_dim, height, width)\n",
        "            conv_shape = (filters, in_dim, size, size)\n",
        "            conv_weights = np.fromfile(\n",
        "                wf, dtype=np.float32, count=np.product(conv_shape))\n",
        "            # tf shape (height, width, in_dim, out_dim)\n",
        "            conv_weights = conv_weights.reshape(\n",
        "                conv_shape).transpose([2, 3, 1, 0])\n",
        "\n",
        "            if batch_norm is None:\n",
        "                layer.set_weights([conv_weights, conv_bias])\n",
        "            else:\n",
        "                layer.set_weights([conv_weights])\n",
        "                batch_norm.set_weights(bn_weights)\n",
        "\n",
        "    assert len(wf.read()) == 0, 'failed to read all data'\n",
        "    wf.close()\n"
      ],
      "execution_count": 21,
      "outputs": []
    },
    {
      "cell_type": "markdown",
      "metadata": {
        "id": "c53hFtlPBCMx"
      },
      "source": [
        "**Load YoloV3 Model**"
      ]
    },
    {
      "cell_type": "code",
      "metadata": {
        "colab": {
          "base_uri": "https://localhost:8080/"
        },
        "id": "kW-kJnXs_jNf",
        "outputId": "3fbc0d63-720c-4554-eccc-4bb6f49a5add"
      },
      "source": [
        "#variable to get the physical devices\n",
        "physical_devices = tf.config.experimental.list_physical_devices('GPU')\n",
        "\n",
        "# define yolo object\n",
        "#yolo = YoloV3(classes = len(classifiers))\n",
        "yolo = YoloV3(classes = 80)\n",
        "# model summary\n",
        "yolo.summary()\n",
        "\n",
        "load_darknet_weights(yolo, '/content/drive/MyDrive/HardHead_Dataset/models/yolov3.weights', False)\n",
        "\n",
        "img = np.random.random((1, 320, 320, 3)).astype(np.float32)\n",
        "output = yolo(img)\n",
        "print('sanity check passed')\n",
        "\n",
        "weight_tf_file = '/content/drive/MyDrive/HardHead_Dataset/models/yolov3.tf'\n",
        "yolo.save_weights(weight_tf_file)\n",
        "print(f'Weights conversion done to - {weight_tf_file}')"
      ],
      "execution_count": 22,
      "outputs": [
        {
          "output_type": "stream",
          "text": [
            "Model: \"yolov3\"\n",
            "__________________________________________________________________________________________________\n",
            "Layer (type)                    Output Shape         Param #     Connected to                     \n",
            "==================================================================================================\n",
            "input (InputLayer)              [(None, None, None,  0                                            \n",
            "__________________________________________________________________________________________________\n",
            "yolo_darknet (Functional)       ((None, None, None,  40620640    input[0][0]                      \n",
            "__________________________________________________________________________________________________\n",
            "yolo_conv_0 (Functional)        (None, None, None, 5 11024384    yolo_darknet[0][2]               \n",
            "__________________________________________________________________________________________________\n",
            "yolo_conv_1 (Functional)        (None, None, None, 2 2957312     yolo_conv_0[0][0]                \n",
            "                                                                 yolo_darknet[0][1]               \n",
            "__________________________________________________________________________________________________\n",
            "yolo_conv_2 (Functional)        (None, None, None, 1 741376      yolo_conv_1[0][0]                \n",
            "                                                                 yolo_darknet[0][0]               \n",
            "__________________________________________________________________________________________________\n",
            "yolo_output_0 (Functional)      (None, None, None, 3 4984063     yolo_conv_0[0][0]                \n",
            "__________________________________________________________________________________________________\n",
            "yolo_output_1 (Functional)      (None, None, None, 3 1312511     yolo_conv_1[0][0]                \n",
            "__________________________________________________________________________________________________\n",
            "yolo_output_2 (Functional)      (None, None, None, 3 361471      yolo_conv_2[0][0]                \n",
            "__________________________________________________________________________________________________\n",
            "yolo_boxes_0 (Lambda)           ((None, None, None,  0           yolo_output_0[0][0]              \n",
            "__________________________________________________________________________________________________\n",
            "yolo_boxes_1 (Lambda)           ((None, None, None,  0           yolo_output_1[0][0]              \n",
            "__________________________________________________________________________________________________\n",
            "yolo_boxes_2 (Lambda)           ((None, None, None,  0           yolo_output_2[0][0]              \n",
            "__________________________________________________________________________________________________\n",
            "yolo_nms (Lambda)               ((1, None, 4), (1, N 0           yolo_boxes_0[0][0]               \n",
            "                                                                 yolo_boxes_0[0][1]               \n",
            "                                                                 yolo_boxes_0[0][2]               \n",
            "                                                                 yolo_boxes_1[0][0]               \n",
            "                                                                 yolo_boxes_1[0][1]               \n",
            "                                                                 yolo_boxes_1[0][2]               \n",
            "                                                                 yolo_boxes_2[0][0]               \n",
            "                                                                 yolo_boxes_2[0][1]               \n",
            "                                                                 yolo_boxes_2[0][2]               \n",
            "==================================================================================================\n",
            "Total params: 62,001,757\n",
            "Trainable params: 61,949,149\n",
            "Non-trainable params: 52,608\n",
            "__________________________________________________________________________________________________\n",
            "sanity check passed\n",
            "Weights conversion done to - /content/drive/MyDrive/HardHead_Dataset/models/yolov3.tf\n"
          ],
          "name": "stdout"
        }
      ]
    },
    {
      "cell_type": "markdown",
      "metadata": {
        "id": "SDGGkucQHJSx"
      },
      "source": [
        "## **Model Training**"
      ]
    },
    {
      "cell_type": "markdown",
      "metadata": {
        "id": "4FKbnMPbLUSJ"
      },
      "source": [
        "**Define the variables to initialize the training**"
      ]
    },
    {
      "cell_type": "code",
      "metadata": {
        "id": "7TR-3n8RK90x"
      },
      "source": [
        "# Guides\n",
        "\n",
        "'''\n",
        "flags.DEFINE_string('dataset', '', 'path to dataset')\n",
        "flags.DEFINE_string('val_dataset', '', 'path to validation dataset')\n",
        "flags.DEFINE_boolean('tiny', False, 'yolov3 or yolov3-tiny')\n",
        "flags.DEFINE_string('weights', './checkpoints/yolov3.tf',\n",
        "                    'path to weights file')\n",
        "flags.DEFINE_string('classes', './data/coco.names', 'path to classes file')\n",
        "flags.DEFINE_enum('mode', 'fit', ['fit', 'eager_fit', 'eager_tf'],\n",
        "                  'fit: model.fit, '\n",
        "                  'eager_fit: model.fit(run_eagerly=True), '\n",
        "                  'eager_tf: custom GradientTape')\n",
        "flags.DEFINE_enum('transfer', 'none',\n",
        "                  ['none', 'darknet', 'no_output', 'frozen', 'fine_tune'],\n",
        "                  'none: Training from scratch, '\n",
        "                  'darknet: Transfer darknet, '\n",
        "                  'no_output: Transfer all but output, '\n",
        "                  'frozen: Transfer and freeze all, '\n",
        "                  'fine_tune: Transfer all and freeze darknet only')\n",
        "flags.DEFINE_integer('size', 416, 'image size')\n",
        "flags.DEFINE_integer('epochs', 2, 'number of epochs')\n",
        "flags.DEFINE_integer('batch_size', 8, 'batch size')\n",
        "flags.DEFINE_float('learning_rate', 1e-3, 'learning rate')\n",
        "flags.DEFINE_integer('num_classes', 80, 'number of classes in the model')\n",
        "flags.DEFINE_integer('weights_num_classes', None, 'specify num class for `weights` file if different, '\n",
        "                     'useful in transfer learning with different number of classes')\n",
        "flags.DEFINE_boolean('multi_gpu', False, 'Use if wishing to train with more than 1 GPU.')\n",
        "'''\n",
        "# image dimension\n",
        "image_size = 416\n",
        "# num of classes for the dataset\n",
        "num_classes = 2\n",
        "# status of transfer learning\n",
        "transfer = 'darknet'\n",
        "# specify num class for `weights` file if different,\n",
        "#useful in transfer learning with different number of classes\n",
        "weights_num_classes = 80\n",
        "# weights file path\n",
        "weights = '/content/drive/MyDrive/HardHead_Dataset/models/yolov3.tf'\n",
        "# define learning rate\n",
        "learning_rate = 1e-03\n",
        "#'mode', 'fit', ['fit', 'eager_fit', 'eager_tf'],\n",
        "#                  'fit: model.fit, '\n",
        "#                  'eager_fit: model.fit(run_eagerly=True), '\n",
        "#                  'eager_tf: custom GradientTape')\n",
        "# further info on mode can be found from eager execution url - https://www.tensorflow.org/guide/eager\n",
        "mode = 'fit'\n",
        "#Use if wishing to train with more than 1 GPU.\n",
        "multi_gpu = False\n",
        "# batch size\n",
        "batch_size = 16\n",
        "# epochs\n",
        "epochs = 30"
      ],
      "execution_count": 23,
      "outputs": []
    },
    {
      "cell_type": "markdown",
      "metadata": {
        "id": "nFvaTAuVeISc"
      },
      "source": [
        "**Function to transform images & targets**"
      ]
    },
    {
      "cell_type": "code",
      "metadata": {
        "id": "oKyrRTEXeGmG"
      },
      "source": [
        "# transform images\n",
        "def transform_images(x_train, size):\n",
        "    x_train = tf.image.resize(x_train, (size, size))\n",
        "    x_train = x_train / 255\n",
        "    return x_train\n",
        "\n",
        "# transform targets for output\n",
        "@tf.function\n",
        "def transform_targets_for_output(y_true, grid_size, anchor_idxs):\n",
        "    # y_true: (N, boxes, (x1, y1, x2, y2, class, best_anchor))\n",
        "    N = tf.shape(y_true)[0]\n",
        "\n",
        "    # y_true_out: (N, grid, grid, anchors, [x1, y1, x2, y2, obj, class])\n",
        "    y_true_out = tf.zeros(\n",
        "        (N, grid_size, grid_size, tf.shape(anchor_idxs)[0], 6))\n",
        "\n",
        "    anchor_idxs = tf.cast(anchor_idxs, tf.int32)\n",
        "\n",
        "    indexes = tf.TensorArray(tf.int32, 1, dynamic_size=True)\n",
        "    updates = tf.TensorArray(tf.float32, 1, dynamic_size=True)\n",
        "    idx = 0\n",
        "    for i in tf.range(N):\n",
        "        for j in tf.range(tf.shape(y_true)[1]):\n",
        "            if tf.equal(y_true[i][j][2], 0):\n",
        "                continue\n",
        "            anchor_eq = tf.equal(\n",
        "                anchor_idxs, tf.cast(y_true[i][j][5], tf.int32))\n",
        "\n",
        "            if tf.reduce_any(anchor_eq):\n",
        "                box = y_true[i][j][0:4]\n",
        "                box_xy = (y_true[i][j][0:2] + y_true[i][j][2:4]) / 2\n",
        "\n",
        "                anchor_idx = tf.cast(tf.where(anchor_eq), tf.int32)\n",
        "                grid_xy = tf.cast(box_xy // (1/grid_size), tf.int32)\n",
        "\n",
        "                # grid[y][x][anchor] = (tx, ty, bw, bh, obj, class)\n",
        "                indexes = indexes.write(\n",
        "                    idx, [i, grid_xy[1], grid_xy[0], anchor_idx[0][0]])\n",
        "                updates = updates.write(\n",
        "                    idx, [box[0], box[1], box[2], box[3], 1, y_true[i][j][4]])\n",
        "                idx += 1\n",
        "\n",
        "    # tf.print(indexes.stack())\n",
        "    # tf.print(updates.stack())\n",
        "\n",
        "    return tf.tensor_scatter_nd_update(\n",
        "        y_true_out, indexes.stack(), updates.stack())\n",
        "\n",
        "\n",
        "# transform targets\n",
        "def transform_targets(y_train, anchors, anchor_masks, size):\n",
        "    y_outs = []\n",
        "    grid_size = size // 32\n",
        "\n",
        "    # calculate anchor index for true boxes\n",
        "    anchors = tf.cast(anchors, tf.float32)\n",
        "    anchor_area = anchors[..., 0] * anchors[..., 1]\n",
        "    box_wh = y_train[..., 2:4] - y_train[..., 0:2]\n",
        "    box_wh = tf.tile(tf.expand_dims(box_wh, -2),\n",
        "                     (1, 1, tf.shape(anchors)[0], 1))\n",
        "    box_area = box_wh[..., 0] * box_wh[..., 1]\n",
        "    intersection = tf.minimum(box_wh[..., 0], anchors[..., 0]) * \\\n",
        "        tf.minimum(box_wh[..., 1], anchors[..., 1])\n",
        "    iou = intersection / (box_area + anchor_area - intersection)\n",
        "    anchor_idx = tf.cast(tf.argmax(iou, axis=-1), tf.float32)\n",
        "    anchor_idx = tf.expand_dims(anchor_idx, axis=-1)\n",
        "\n",
        "    y_train = tf.concat([y_train, anchor_idx], axis=-1)\n",
        "\n",
        "    for anchor_idxs in anchor_masks:\n",
        "        y_outs.append(transform_targets_for_output(\n",
        "            y_train, grid_size, anchor_idxs))\n",
        "        grid_size *= 2\n",
        "\n",
        "    return tuple(y_outs)"
      ],
      "execution_count": 34,
      "outputs": []
    },
    {
      "cell_type": "markdown",
      "metadata": {
        "id": "6T7jzVv0HeeG"
      },
      "source": [
        "**Define function freeze the model layers for transfer learning purpose**"
      ]
    },
    {
      "cell_type": "code",
      "metadata": {
        "id": "2vM-h6iLbOkr"
      },
      "source": [
        "def freeze_all(model, frozen=True):\n",
        "    model.trainable = not frozen\n",
        "    if isinstance(model, tf.keras.Model):\n",
        "        for l in model.layers:\n",
        "            freeze_all(l, frozen)"
      ],
      "execution_count": null,
      "outputs": []
    },
    {
      "cell_type": "markdown",
      "metadata": {
        "id": "VAJkhwKaqGyr"
      },
      "source": [
        "**Yolo Loss function**"
      ]
    },
    {
      "cell_type": "code",
      "metadata": {
        "id": "Dv7Z_LpupjFV"
      },
      "source": [
        "# boroadcast iou\n",
        "def broadcast_iou(box_1, box_2):\n",
        "    # box_1: (..., (x1, y1, x2, y2))\n",
        "    # box_2: (N, (x1, y1, x2, y2))\n",
        "\n",
        "    # broadcast boxes\n",
        "    box_1 = tf.expand_dims(box_1, -2)\n",
        "    box_2 = tf.expand_dims(box_2, 0)\n",
        "    # new_shape: (..., N, (x1, y1, x2, y2))\n",
        "    new_shape = tf.broadcast_dynamic_shape(tf.shape(box_1), tf.shape(box_2))\n",
        "    box_1 = tf.broadcast_to(box_1, new_shape)\n",
        "    box_2 = tf.broadcast_to(box_2, new_shape)\n",
        "\n",
        "    int_w = tf.maximum(tf.minimum(box_1[..., 2], box_2[..., 2]) -\n",
        "                       tf.maximum(box_1[..., 0], box_2[..., 0]), 0)\n",
        "    int_h = tf.maximum(tf.minimum(box_1[..., 3], box_2[..., 3]) -\n",
        "                       tf.maximum(box_1[..., 1], box_2[..., 1]), 0)\n",
        "    int_area = int_w * int_h\n",
        "    box_1_area = (box_1[..., 2] - box_1[..., 0]) * \\\n",
        "        (box_1[..., 3] - box_1[..., 1])\n",
        "    box_2_area = (box_2[..., 2] - box_2[..., 0]) * \\\n",
        "        (box_2[..., 3] - box_2[..., 1])\n",
        "    return int_area / (box_1_area + box_2_area - int_area)\n",
        "\n",
        "\n",
        "# yolo loss\n",
        "def YoloLoss(anchors, classes=80, ignore_thresh=0.5):\n",
        "    def yolo_loss(y_true, y_pred):\n",
        "        # 1. transform all pred outputs\n",
        "        # y_pred: (batch_size, grid, grid, anchors, (x, y, w, h, obj, ...cls))\n",
        "        pred_box, pred_obj, pred_class, pred_xywh = yolo_boxes(\n",
        "            y_pred, anchors, classes)\n",
        "        pred_xy = pred_xywh[..., 0:2]\n",
        "        pred_wh = pred_xywh[..., 2:4]\n",
        "\n",
        "        # 2. transform all true outputs\n",
        "        # y_true: (batch_size, grid, grid, anchors, (x1, y1, x2, y2, obj, cls))\n",
        "        true_box, true_obj, true_class_idx = tf.split(\n",
        "            y_true, (4, 1, 1), axis=-1)\n",
        "        true_xy = (true_box[..., 0:2] + true_box[..., 2:4]) / 2\n",
        "        true_wh = true_box[..., 2:4] - true_box[..., 0:2]\n",
        "\n",
        "        # give higher weights to small boxes\n",
        "        box_loss_scale = 2 - true_wh[..., 0] * true_wh[..., 1]\n",
        "\n",
        "        # 3. inverting the pred box equations\n",
        "        grid_size = tf.shape(y_true)[1]\n",
        "        grid = tf.meshgrid(tf.range(grid_size), tf.range(grid_size))\n",
        "        grid = tf.expand_dims(tf.stack(grid, axis=-1), axis=2)\n",
        "        true_xy = true_xy * tf.cast(grid_size, tf.float32) - \\\n",
        "            tf.cast(grid, tf.float32)\n",
        "        true_wh = tf.math.log(true_wh / anchors)\n",
        "        true_wh = tf.where(tf.math.is_inf(true_wh),\n",
        "                           tf.zeros_like(true_wh), true_wh)\n",
        "\n",
        "        # 4. calculate all masks\n",
        "        obj_mask = tf.squeeze(true_obj, -1)\n",
        "        # ignore false positive when iou is over threshold\n",
        "        best_iou = tf.map_fn(\n",
        "            lambda x: tf.reduce_max(broadcast_iou(x[0], tf.boolean_mask(\n",
        "                x[1], tf.cast(x[2], tf.bool))), axis=-1),\n",
        "            (pred_box, true_box, obj_mask),\n",
        "            tf.float32)\n",
        "        ignore_mask = tf.cast(best_iou < ignore_thresh, tf.float32)\n",
        "\n",
        "        # 5. calculate all losses\n",
        "        xy_loss = obj_mask * box_loss_scale * \\\n",
        "            tf.reduce_sum(tf.square(true_xy - pred_xy), axis=-1)\n",
        "        wh_loss = obj_mask * box_loss_scale * \\\n",
        "            tf.reduce_sum(tf.square(true_wh - pred_wh), axis=-1)\n",
        "        obj_loss = binary_crossentropy(true_obj, pred_obj)\n",
        "        obj_loss = obj_mask * obj_loss + \\\n",
        "            (1 - obj_mask) * ignore_mask * obj_loss\n",
        "        # TODO: use binary_crossentropy instead\n",
        "        class_loss = obj_mask * sparse_categorical_crossentropy(\n",
        "            true_class_idx, pred_class)\n",
        "\n",
        "        # 6. sum over (batch, gridx, gridy, anchors) => (batch, 1)\n",
        "        xy_loss = tf.reduce_sum(xy_loss, axis=(1, 2, 3))\n",
        "        wh_loss = tf.reduce_sum(wh_loss, axis=(1, 2, 3))\n",
        "        obj_loss = tf.reduce_sum(obj_loss, axis=(1, 2, 3))\n",
        "        class_loss = tf.reduce_sum(class_loss, axis=(1, 2, 3))\n",
        "\n",
        "        return xy_loss + wh_loss + obj_loss + class_loss\n",
        "    return yolo_loss"
      ],
      "execution_count": null,
      "outputs": []
    },
    {
      "cell_type": "markdown",
      "metadata": {
        "id": "VjIUl7a3MAdJ"
      },
      "source": [
        "**Define Model Setup function**"
      ]
    },
    {
      "cell_type": "code",
      "metadata": {
        "id": "6-NAGCivL9zd"
      },
      "source": [
        "def setup_model():\n",
        "    '''\n",
        "    if FLAGS.tiny:\n",
        "        model = YoloV3Tiny(FLAGS.size, training=True,\n",
        "                           classes=FLAGS.num_classes)\n",
        "        anchors = yolo_tiny_anchors\n",
        "        anchor_masks = yolo_tiny_anchor_masks\n",
        "    else:\n",
        "    '''\n",
        "    model = YoloV3(image_size, training=True, classes=num_classes)\n",
        "    anchors = yolo_anchors\n",
        "    anchor_masks = yolo_anchor_masks\n",
        "\n",
        "    # Configure the model for transfer learning\n",
        "    if transfer == 'none':\n",
        "        pass  # Nothing to do\n",
        "    elif transfer in ['darknet', 'no_output']:\n",
        "        # Darknet transfer is a special case that works\n",
        "        # with incompatible number of classes\n",
        "        # reset top layers\n",
        "        #if FLAGS.tiny:\n",
        "        #    model_pretrained = YoloV3Tiny(\n",
        "        #        FLAGS.size, training=True, classes=FLAGS.weights_num_classes or FLAGS.num_classes)\n",
        "        #else:\n",
        "        model_pretrained = YoloV3(\n",
        "            image_size, training=True, classes=weights_num_classes or num_classes)\n",
        "        model_pretrained.load_weights(weights)\n",
        "\n",
        "        if transfer == 'darknet':\n",
        "            model.get_layer('yolo_darknet').set_weights(\n",
        "                model_pretrained.get_layer('yolo_darknet').get_weights())\n",
        "            freeze_all(model.get_layer('yolo_darknet'))\n",
        "        elif transfer == 'no_output':\n",
        "            for l in model.layers:\n",
        "                if not l.name.startswith('yolo_output'):\n",
        "                    l.set_weights(model_pretrained.get_layer(\n",
        "                        l.name).get_weights())\n",
        "                    freeze_all(l)\n",
        "    else:\n",
        "        # All other transfer require matching classes\n",
        "        model.load_weights(weights)\n",
        "        if FLAGS.transfer == 'fine_tune':\n",
        "            # freeze darknet and fine tune other layers\n",
        "            darknet = model.get_layer('yolo_darknet')\n",
        "            freeze_all(darknet)\n",
        "        elif transfer == 'frozen':\n",
        "            # freeze everything\n",
        "            freeze_all(model)\n",
        "\n",
        "    optimizer = tf.keras.optimizers.Adam(lr=learning_rate)\n",
        "    loss = [YoloLoss(anchors[mask], classes=num_classes)\n",
        "            for mask in anchor_masks]\n",
        "\n",
        "    model.compile(optimizer=optimizer, loss=loss,\n",
        "                  run_eagerly=(mode == 'eager_fit'))\n",
        "\n",
        "    return model, optimizer, loss, anchors, anchor_masks"
      ],
      "execution_count": null,
      "outputs": []
    },
    {
      "cell_type": "markdown",
      "metadata": {
        "id": "cMtOfbyaMoJD"
      },
      "source": [
        "#### **Model Training**"
      ]
    },
    {
      "cell_type": "code",
      "metadata": {
        "id": "UO1_SSx4MF0Y"
      },
      "source": [
        "#!usr/bin/env python3 \n",
        "physical_devices = tf.config.experimental.list_physical_devices('GPU')\n",
        "\n",
        "# Setup\n",
        "if multi_gpu:\n",
        "    for physical_device in physical_devices:\n",
        "        tf.config.experimental.set_memory_growth(physical_device, True)\n",
        "\n",
        "    strategy = tf.distribute.MirroredStrategy()\n",
        "    print('Number of devices: {}'.format(strategy.num_replicas_in_sync))\n",
        "    BATCH_SIZE = batch_size * strategy.num_replicas_in_sync\n",
        "    batch_size = BATCH_SIZE\n",
        "\n",
        "    with strategy.scope():\n",
        "        model, optimizer, loss, anchors, anchor_masks = setup_model()\n",
        "else:\n",
        "    model, optimizer, loss, anchors, anchor_masks = setup_model()\n",
        "\n",
        "# dataset setup\n",
        "## train set\n",
        "train_dataset = load_tfrecord_dataset(\n",
        "    train_record, class_path, image_size)\n",
        "train_dataset = train_dataset.shuffle(buffer_size=512)\n",
        "train_dataset = train_dataset.batch(batch_size)\n",
        "train_dataset = train_dataset.map(lambda x, y: (\n",
        "    transform_images(x, image_size),\n",
        "    transform_targets(y, anchors, anchor_masks, image_size)))\n",
        "train_dataset = train_dataset.prefetch(\n",
        "    buffer_size=tf.data.experimental.AUTOTUNE)\n",
        "\n",
        "## validation set\n",
        "val_dataset = load_tfrecord_dataset(\n",
        "            valid_record, class_path, image_size)\n",
        "val_dataset = val_dataset.batch(batch_size)\n",
        "val_dataset = val_dataset.map(lambda x, y: (\n",
        "    transform_images(x, image_size),\n",
        "    transform_targets(y, anchors, anchor_masks, image_size)))\n",
        "\n",
        "# training loop\n",
        "if mode == 'eager_tf':\n",
        "    # Eager mode is great for debugging\n",
        "    # Non eager graph mode is recommended for real training\n",
        "    avg_loss = tf.keras.metrics.Mean('loss', dtype=tf.float32)\n",
        "    avg_val_loss = tf.keras.metrics.Mean('val_loss', dtype=tf.float32)\n",
        "\n",
        "    for epoch in range(1, FLAGS.epochs + 1):\n",
        "        for batch, (images, labels) in enumerate(train_dataset):\n",
        "            with tf.GradientTape() as tape:\n",
        "                outputs = model(images, training=True)\n",
        "                regularization_loss = tf.reduce_sum(model.losses)\n",
        "                pred_loss = []\n",
        "                for output, label, loss_fn in zip(outputs, labels, loss):\n",
        "                    pred_loss.append(loss_fn(label, output))\n",
        "                total_loss = tf.reduce_sum(pred_loss) + regularization_loss\n",
        "\n",
        "            grads = tape.gradient(total_loss, model.trainable_variables)\n",
        "            optimizer.apply_gradients(\n",
        "                zip(grads, model.trainable_variables))\n",
        "\n",
        "            logging.info(\"{}_train_{}, {}, {}\".format(\n",
        "                epoch, batch, total_loss.numpy(),\n",
        "                list(map(lambda x: np.sum(x.numpy()), pred_loss))))\n",
        "            avg_loss.update_state(total_loss)\n",
        "\n",
        "        for batch, (images, labels) in enumerate(val_dataset):\n",
        "            outputs = model(images)\n",
        "            regularization_loss = tf.reduce_sum(model.losses)\n",
        "            pred_loss = []\n",
        "            for output, label, loss_fn in zip(outputs, labels, loss):\n",
        "                pred_loss.append(loss_fn(label, output))\n",
        "            total_loss = tf.reduce_sum(pred_loss) + regularization_loss\n",
        "\n",
        "            logging.info(\"{}_val_{}, {}, {}\".format(\n",
        "                epoch, batch, total_loss.numpy(),\n",
        "                list(map(lambda x: np.sum(x.numpy()), pred_loss))))\n",
        "            avg_val_loss.update_state(total_loss)\n",
        "\n",
        "        logging.info(\"{}, train: {}, val: {}\".format(\n",
        "            epoch,\n",
        "            avg_loss.result().numpy(),\n",
        "            avg_val_loss.result().numpy()))\n",
        "\n",
        "        avg_loss.reset_states()\n",
        "        avg_val_loss.reset_states()\n",
        "        model.save_weights(\n",
        "            'checkpoints/yolov3_train_{}.tf'.format(epoch))\n",
        "\n",
        "else:\n",
        "    callbacks = [\n",
        "        ReduceLROnPlateau(verbose=1),\n",
        "        #EarlyStopping(patience=3, verbose=1),\n",
        "        ModelCheckpoint('/content/drive/MyDrive/HardHead_Dataset/checkpoints/yolov3_train_{epoch}.tf', save_best_only=True, monitor='val_loss',\n",
        "                        verbose=1, save_weights_only=True, mode = 'min'),\n",
        "        TensorBoard(log_dir='logs')\n",
        "    ]\n",
        "\n",
        "    start_time = time.time()\n",
        "    history = model.fit(train_dataset,\n",
        "                        epochs=epochs,\n",
        "                        callbacks=callbacks,\n",
        "                        validation_data=val_dataset)\n",
        "    end_time = time.time() - start_time\n",
        "    print(f'Total Training Time: {end_time}')\n"
      ],
      "execution_count": null,
      "outputs": []
    },
    {
      "cell_type": "code",
      "metadata": {
        "colab": {
          "base_uri": "https://localhost:8080/"
        },
        "id": "TCQgoRipt8AZ",
        "outputId": "97d78a9e-f84b-4709-c8c2-c27dbb5f896b"
      },
      "source": [
        "model.load_weights('/content/drive/MyDrive/HardHead_Dataset/checkpoints/yolov3_train_6.tf')"
      ],
      "execution_count": null,
      "outputs": [
        {
          "output_type": "execute_result",
          "data": {
            "text/plain": [
              "<tensorflow.python.training.tracking.util.CheckpointLoadStatus at 0x7f78e02d9f50>"
            ]
          },
          "metadata": {
            "tags": []
          },
          "execution_count": 49
        }
      ]
    },
    {
      "cell_type": "code",
      "metadata": {
        "colab": {
          "base_uri": "https://localhost:8080/"
        },
        "id": "8JkzzDd9t1ui",
        "outputId": "87645a3b-4690-4184-adc3-9270e9e53b87"
      },
      "source": [
        "callbacks = [\n",
        "        ReduceLROnPlateau(verbose=1),\n",
        "        #EarlyStopping(patience=3, verbose=1),\n",
        "        ModelCheckpoint('/content/drive/MyDrive/HardHead_Dataset/checkpoints/yolov3_train_{epoch}.tf', save_best_only=True, monitor='val_loss',\n",
        "                        verbose=1, save_weights_only=True, mode = 'min'),\n",
        "        TensorBoard(log_dir='logs')\n",
        "    ]\n",
        "\n",
        "start_time = time.time()\n",
        "history = model.fit(train_dataset,\n",
        "                    epochs=epochs,\n",
        "                    callbacks=callbacks,\n",
        "                    validation_data=val_dataset)\n",
        "end_time = time.time() - start_time\n",
        "print(f'Total Training Time: {end_time}')\n"
      ],
      "execution_count": null,
      "outputs": [
        {
          "output_type": "stream",
          "text": [
            "Epoch 1/30\n",
            "282/282 [==============================] - 134s 459ms/step - loss: 17.4504 - yolo_output_0_loss: 0.2496 - yolo_output_1_loss: 1.4267 - yolo_output_2_loss: 5.0326 - val_loss: 22.0246 - val_yolo_output_0_loss: 0.5885 - val_yolo_output_1_loss: 3.3053 - val_yolo_output_2_loss: 7.4037\n",
            "\n",
            "Epoch 00001: val_loss improved from inf to 22.02456, saving model to /content/drive/MyDrive/HardHead_Dataset/checkpoints/yolov3_train_1.tf\n",
            "Epoch 2/30\n",
            "282/282 [==============================] - 134s 458ms/step - loss: 16.3390 - yolo_output_0_loss: 0.1962 - yolo_output_1_loss: 1.1970 - yolo_output_2_loss: 4.2336 - val_loss: 21.9329 - val_yolo_output_0_loss: 0.6448 - val_yolo_output_1_loss: 3.3565 - val_yolo_output_2_loss: 7.2335\n",
            "\n",
            "Epoch 00002: val_loss improved from 22.02456 to 21.93293, saving model to /content/drive/MyDrive/HardHead_Dataset/checkpoints/yolov3_train_2.tf\n",
            "Epoch 3/30\n",
            "282/282 [==============================] - 134s 457ms/step - loss: 15.3519 - yolo_output_0_loss: 0.1751 - yolo_output_1_loss: 0.9916 - yolo_output_2_loss: 3.5030 - val_loss: 22.4127 - val_yolo_output_0_loss: 1.1564 - val_yolo_output_1_loss: 3.3072 - val_yolo_output_2_loss: 7.2816\n",
            "\n",
            "Epoch 00003: val_loss did not improve from 21.93293\n",
            "Epoch 4/30\n",
            "282/282 [==============================] - 132s 452ms/step - loss: 14.7507 - yolo_output_0_loss: 0.1994 - yolo_output_1_loss: 0.9205 - yolo_output_2_loss: 2.9768 - val_loss: 23.5257 - val_yolo_output_0_loss: 0.5573 - val_yolo_output_1_loss: 3.4212 - val_yolo_output_2_loss: 8.9045\n",
            "\n",
            "Epoch 00004: val_loss did not improve from 21.93293\n",
            "Epoch 5/30\n",
            "282/282 [==============================] - 140s 480ms/step - loss: 14.2394 - yolo_output_0_loss: 0.1294 - yolo_output_1_loss: 0.7970 - yolo_output_2_loss: 2.6855 - val_loss: 23.3911 - val_yolo_output_0_loss: 0.7111 - val_yolo_output_1_loss: 3.5359 - val_yolo_output_2_loss: 8.5322\n",
            "\n",
            "Epoch 00005: val_loss did not improve from 21.93293\n",
            "Epoch 6/30\n",
            "234/282 [=======================>......] - ETA: 20s - loss: 13.7668 - yolo_output_0_loss: 0.1642 - yolo_output_1_loss: 0.6710 - yolo_output_2_loss: 2.3305"
          ],
          "name": "stdout"
        }
      ]
    },
    {
      "cell_type": "markdown",
      "metadata": {
        "id": "4Jev8_JcA7Gz"
      },
      "source": [
        "**Final Model Summary**"
      ]
    },
    {
      "cell_type": "code",
      "metadata": {
        "id": "58dpasdC5aDl"
      },
      "source": [
        "model.summary()"
      ],
      "execution_count": null,
      "outputs": []
    },
    {
      "cell_type": "code",
      "metadata": {
        "id": "WaLA7ErB5iuk"
      },
      "source": [
        "model.save_weights('yolov3.tf')"
      ],
      "execution_count": null,
      "outputs": []
    },
    {
      "cell_type": "markdown",
      "metadata": {
        "id": "zQH96HMJBCsW"
      },
      "source": [
        "## **Detection Check**"
      ]
    },
    {
      "cell_type": "code",
      "metadata": {
        "colab": {
          "base_uri": "https://localhost:8080/"
        },
        "id": "eVORhgXBswT-",
        "outputId": "81405509-5146-4be1-9cd4-6b4700c632e1"
      },
      "source": [
        "# list of checkpoints\n",
        "os.listdir('/content/drive/MyDrive/HardHead_Dataset/checkpoints')"
      ],
      "execution_count": null,
      "outputs": [
        {
          "output_type": "execute_result",
          "data": {
            "text/plain": [
              "['yolov3_train_1.tf.data-00000-of-00001',\n",
              " 'yolov3_train_1.tf.index',\n",
              " 'checkpoint',\n",
              " 'yolov3_train_2.tf.data-00000-of-00001',\n",
              " 'yolov3_train_2.tf.index',\n",
              " 'yolov3_train_3.tf.data-00000-of-00001',\n",
              " 'yolov3_train_3.tf.index',\n",
              " 'yolov3_train_4.tf.data-00000-of-00001',\n",
              " 'yolov3_train_4.tf.index',\n",
              " 'yolov3_train_5.tf.data-00000-of-00001',\n",
              " 'yolov3_train_5.tf.index',\n",
              " 'yolov3_train_6.tf.data-00000-of-00001',\n",
              " 'yolov3_train_6.tf.index']"
            ]
          },
          "metadata": {
            "tags": []
          },
          "execution_count": 42
        }
      ]
    },
    {
      "cell_type": "code",
      "metadata": {
        "colab": {
          "base_uri": "https://localhost:8080/"
        },
        "id": "QX-c7hH9Fgh8",
        "outputId": "88cd13f5-76db-4531-8c01-a37e4b2a7c53"
      },
      "source": [
        "# load class names\n",
        "class_names = open(class_path).read().split('\\n')\n",
        "print(f'Class names loaded for visualization- {class_names}')"
      ],
      "execution_count": null,
      "outputs": [
        {
          "output_type": "stream",
          "text": [
            "Class names loaded for visualization- ['head', 'helmet']\n"
          ],
          "name": "stdout"
        }
      ]
    },
    {
      "cell_type": "code",
      "metadata": {
        "id": "ipX9vwQMMs_4"
      },
      "source": [
        "def detect_img(path):\n",
        "  num_classes = 2\n",
        "  classes = class_dict\n",
        "  weights = '/content/drive/MyDrive/HardHead_Dataset/checkpoints/yolov3_train_6.tf'\n",
        "\n",
        "  # Lower threshold due to insufficient training\n",
        "  yolo_iou_threshold = 0.2\n",
        "  yolo_score_threshold = 0.2\n",
        "\n",
        "  #if FLAGS.tiny:\n",
        "  #    yolo = YoloV3Tiny(classes=FLAGS.num_classes)\n",
        "  #else:\n",
        "  hardhead_model = YoloV3(classes=num_classes)\n",
        "\n",
        "  hardhead_model.load_weights(weights).expect_partial()\n",
        "  logging.info('weights loaded')\n",
        "\n",
        "  #class_names = [c.strip() for c in open(FLAGS.classes).readlines()]\n",
        "  #logging.info('classes loaded')\n",
        "\n",
        "  img_raw = tf.image.decode_image(\n",
        "      open(image_demo, 'rb').read(), channels=3)\n",
        "\n",
        "  img = tf.expand_dims(img_raw, 0)\n",
        "  img = transform_images(img, image_size)\n",
        "\n",
        "  t1 = time.time()\n",
        "  boxes, scores, classes, nums = hardhead_model(img)\n",
        "  t2 = time.time()\n",
        "  #logging.info('time: {}'.format(t2 - t1))\n",
        "\n",
        "  #logging.info('detections:')\n",
        "\n",
        "\n",
        "  for i in range(nums[0]):\n",
        "      logging.info('\\t{}, {}, {}'.format(class_names[int(classes[0][i])],\n",
        "                                          np.array(scores[0][i]),\n",
        "                                          np.array(boxes[0][i])))\n",
        "\n",
        "  img = cv2.cvtColor(img_raw.numpy(), cv2.COLOR_RGB2BGR)\n",
        "  img = draw_outputs(img, (boxes, scores, classes, nums), class_names)\n",
        "\n",
        "  from IPython.display import Image, display\n",
        "  display(Image(data=bytes(cv2.imencode('.jpg', img)[1]), width=800))\n"
      ],
      "execution_count": null,
      "outputs": []
    },
    {
      "cell_type": "code",
      "metadata": {
        "id": "zUsIGmfcUkh4",
        "colab": {
          "base_uri": "https://localhost:8080/",
          "height": 617
        },
        "outputId": "bb502e87-d918-4882-dca6-2a07a7ff8675"
      },
      "source": [
        "image_demo = '/content/00001.jpg'\n",
        "detect_img(image_demo)"
      ],
      "execution_count": null,
      "outputs": [
        {
          "output_type": "display_data",
          "data": {
            "image/jpeg": "[encoded data removed]",
            "text/plain": [
              "<IPython.core.display.Image object>"
            ]
          },
          "metadata": {
            "tags": [],
            "image/jpeg": {
              "width": 800
            }
          }
        }
      ]
    },
    {
      "cell_type": "code",
      "metadata": {
        "colab": {
          "base_uri": "https://localhost:8080/",
          "height": 1000
        },
        "id": "34yEDBQV23U4",
        "outputId": "ec0253e3-5781-4cd8-9565-63af880205ee"
      },
      "source": [
        "image_demo = '/content/00002.jpg'\n",
        "detect_img(image_demo)\n",
        "image_demo = '/content/new.jpg'\n",
        "detect_img(image_demo)"
      ],
      "execution_count": null,
      "outputs": [
        {
          "output_type": "display_data",
          "data": {
            "image/jpeg": "[encoded data removed]",
            "text/plain": [
              "<IPython.core.display.Image object>"
            ]
          },
          "metadata": {
            "tags": [],
            "image/jpeg": {
              "width": 800
            }
          }
        },
        {
          "output_type": "display_data",
          "data": {
            "image/jpeg": "[encoded data removed]",
            "text/plain": [
              "<IPython.core.display.Image object>"
            ]
          },
          "metadata": {
            "tags": [],
            "image/jpeg": {
              "width": 800
            }
          }
        }
      ]
    },
    {
      "cell_type": "markdown",
      "metadata": {
        "id": "N2eOfzkPm_e4"
      },
      "source": [
        "## **Helmet and Head Detection in Video**"
      ]
    },
    {
      "cell_type": "markdown",
      "metadata": {
        "id": "bekYBrpbEa7l"
      },
      "source": [
        "**Frame Count - [Pyimagesearch_reference](https://www.pyimagesearch.com/2017/01/09/count-the-total-number-of-frames-in-a-video-with-opencv-and-python/)**"
      ]
    },
    {
      "cell_type": "code",
      "metadata": {
        "id": "DBOXgHDZEVPS"
      },
      "source": [
        "path = '/content/drive/MyDrive/HardHead_Dataset/demo_video.mp4'\n",
        "video = cv2.VideoCapture(path)\n",
        "\n",
        "# initialize the total number of frames read\n",
        "total = 0\n",
        "# loop over the frames of the video\n",
        "while True:\n",
        "  # grab the current frame\n",
        "  (grabbed, frame) = video.read()\n",
        "  \n",
        "  # check to see if we have reached the end of the\n",
        "  # video\n",
        "  if not grabbed:\n",
        "    break\n",
        "  # increment the total number of frames read\n",
        "  total += 1\n",
        "# return the total number of frames in the video file\n",
        "#return total"
      ],
      "execution_count": null,
      "outputs": []
    },
    {
      "cell_type": "markdown",
      "metadata": {
        "id": "Nrj_-jkYEcjH"
      },
      "source": [
        "**Output Video creation containing the detected frames**"
      ]
    },
    {
      "cell_type": "code",
      "metadata": {
        "id": "3lQQTDVG7XaK",
        "colab": {
          "base_uri": "https://localhost:8080/"
        },
        "outputId": "d50f462b-2369-4db7-d7bc-c368dda0bff0"
      },
      "source": [
        "physical_devices = tf.config.experimental.list_physical_devices('GPU')\n",
        "#for physical_device in physical_devices:\n",
        "#    tf.config.experimental.set_memory_growth(physical_device, True)\n",
        "\n",
        "#if FLAGS.tiny:\n",
        "#    yolo = YoloV3Tiny(classes=FLAGS.num_classes)\n",
        "#else:\n",
        "yolo = YoloV3(classes=num_classes)\n",
        "weights = '/content/drive/MyDrive/HardHead_Dataset/checkpoints/yolov3_train_6.tf'\n",
        "\n",
        "yolo.load_weights(weights)\n",
        "logging.info('weights loaded')\n",
        "\n",
        "#class_names = [c.strip() for c in open(FLAGS.classes).readlines()]\n",
        "logging.info('classes loaded')\n",
        "\n",
        "times = []\n",
        "video = '/content/drive/MyDrive/HardHead_Dataset/demo_video.mp4'\n",
        "#try:\n",
        "vid = cv2.VideoCapture(video)\n",
        "#except:\n",
        "#    vid = cv2.VideoCapture(FLAGS.video)\n",
        "output = '/content/drive/MyDrive/demo_result.mp4'\n",
        "out = None\n",
        "output_format = 'XVID'\n",
        "#if FLAGS.output:\n",
        "    # by default VideoCapture returns float instead of int\n",
        "width = int(vid.get(cv2.CAP_PROP_FRAME_WIDTH))\n",
        "height = int(vid.get(cv2.CAP_PROP_FRAME_HEIGHT))\n",
        "fps = int(vid.get(cv2.CAP_PROP_FPS))\n",
        "codec = cv2.VideoWriter_fourcc(*output_format)\n",
        "out = cv2.VideoWriter(output, codec, fps, (width, height))\n",
        "i=0\n",
        "for _ in tqdm.tqdm(range(0,5000)):\n",
        "    _, img = vid.read()\n",
        "\n",
        "    if img is None:\n",
        "        logging.warning(\"Empty Frame\")\n",
        "        time.sleep(0.1)\n",
        "        continue\n",
        "\n",
        "    img_in = cv2.cvtColor(img, cv2.COLOR_BGR2RGB)\n",
        "    img_in = tf.expand_dims(img_in, 0)\n",
        "    img_in = transform_images(img_in, image_size)\n",
        "\n",
        "    t1 = time.time()\n",
        "    boxes, scores, classes, nums = yolo.predict(img_in)\n",
        "    t2 = time.time()\n",
        "    times.append(t2-t1)\n",
        "    times = times[-20:]\n",
        "\n",
        "    img = draw_outputs(img, (boxes, scores, classes, nums), class_names)\n",
        "    img = cv2.putText(img, \"Time: {:.2f}ms\".format(sum(times)/len(times)*1000), (0, 30),\n",
        "                      cv2.FONT_HERSHEY_COMPLEX_SMALL, 1, (0, 0, 255), 2)\n",
        "    #if FLAGS.output:\n",
        "    out.write(img)"
      ],
      "execution_count": 38,
      "outputs": [
        {
          "output_type": "stream",
          "text": [
            "  0%|          | 4/5000 [00:02<40:21,  2.06it/s]"
          ],
          "name": "stderr"
        },
        {
          "output_type": "stream",
          "text": [
            "WARNING:tensorflow:Unresolved object in checkpoint: (root).optimizer\n"
          ],
          "name": "stdout"
        },
        {
          "output_type": "stream",
          "text": [
            "WARNING:tensorflow:Unresolved object in checkpoint: (root).optimizer\n"
          ],
          "name": "stderr"
        },
        {
          "output_type": "stream",
          "text": [
            "WARNING:tensorflow:Unresolved object in checkpoint: (root).loss\n"
          ],
          "name": "stdout"
        },
        {
          "output_type": "stream",
          "text": [
            "WARNING:tensorflow:Unresolved object in checkpoint: (root).loss\n"
          ],
          "name": "stderr"
        },
        {
          "output_type": "stream",
          "text": [
            "WARNING:tensorflow:Unresolved object in checkpoint: (root).optimizer.iter\n"
          ],
          "name": "stdout"
        },
        {
          "output_type": "stream",
          "text": [
            "WARNING:tensorflow:Unresolved object in checkpoint: (root).optimizer.iter\n"
          ],
          "name": "stderr"
        },
        {
          "output_type": "stream",
          "text": [
            "WARNING:tensorflow:Unresolved object in checkpoint: (root).optimizer.beta_1\n"
          ],
          "name": "stdout"
        },
        {
          "output_type": "stream",
          "text": [
            "WARNING:tensorflow:Unresolved object in checkpoint: (root).optimizer.beta_1\n"
          ],
          "name": "stderr"
        },
        {
          "output_type": "stream",
          "text": [
            "WARNING:tensorflow:Unresolved object in checkpoint: (root).optimizer.beta_2\n"
          ],
          "name": "stdout"
        },
        {
          "output_type": "stream",
          "text": [
            "WARNING:tensorflow:Unresolved object in checkpoint: (root).optimizer.beta_2\n"
          ],
          "name": "stderr"
        },
        {
          "output_type": "stream",
          "text": [
            "WARNING:tensorflow:Unresolved object in checkpoint: (root).optimizer.decay\n"
          ],
          "name": "stdout"
        },
        {
          "output_type": "stream",
          "text": [
            "WARNING:tensorflow:Unresolved object in checkpoint: (root).optimizer.decay\n"
          ],
          "name": "stderr"
        },
        {
          "output_type": "stream",
          "text": [
            "WARNING:tensorflow:Unresolved object in checkpoint: (root).optimizer.learning_rate\n"
          ],
          "name": "stdout"
        },
        {
          "output_type": "stream",
          "text": [
            "WARNING:tensorflow:Unresolved object in checkpoint: (root).optimizer.learning_rate\n"
          ],
          "name": "stderr"
        },
        {
          "output_type": "stream",
          "text": [
            "WARNING:tensorflow:Unresolved object in checkpoint: (root).optimizer's state 'm' for (root).layer_with_weights-1.layer_with_weights-0.kernel\n"
          ],
          "name": "stdout"
        },
        {
          "output_type": "stream",
          "text": [
            "WARNING:tensorflow:Unresolved object in checkpoint: (root).optimizer's state 'm' for (root).layer_with_weights-1.layer_with_weights-0.kernel\n"
          ],
          "name": "stderr"
        },
        {
          "output_type": "stream",
          "text": [
            "WARNING:tensorflow:Unresolved object in checkpoint: (root).optimizer's state 'm' for (root).layer_with_weights-1.layer_with_weights-1.gamma\n"
          ],
          "name": "stdout"
        },
        {
          "output_type": "stream",
          "text": [
            "WARNING:tensorflow:Unresolved object in checkpoint: (root).optimizer's state 'm' for (root).layer_with_weights-1.layer_with_weights-1.gamma\n"
          ],
          "name": "stderr"
        },
        {
          "output_type": "stream",
          "text": [
            "WARNING:tensorflow:Unresolved object in checkpoint: (root).optimizer's state 'm' for (root).layer_with_weights-1.layer_with_weights-1.beta\n"
          ],
          "name": "stdout"
        },
        {
          "output_type": "stream",
          "text": [
            "WARNING:tensorflow:Unresolved object in checkpoint: (root).optimizer's state 'm' for (root).layer_with_weights-1.layer_with_weights-1.beta\n"
          ],
          "name": "stderr"
        },
        {
          "output_type": "stream",
          "text": [
            "WARNING:tensorflow:Unresolved object in checkpoint: (root).optimizer's state 'm' for (root).layer_with_weights-1.layer_with_weights-2.kernel\n"
          ],
          "name": "stdout"
        },
        {
          "output_type": "stream",
          "text": [
            "WARNING:tensorflow:Unresolved object in checkpoint: (root).optimizer's state 'm' for (root).layer_with_weights-1.layer_with_weights-2.kernel\n"
          ],
          "name": "stderr"
        },
        {
          "output_type": "stream",
          "text": [
            "WARNING:tensorflow:Unresolved object in checkpoint: (root).optimizer's state 'm' for (root).layer_with_weights-1.layer_with_weights-3.gamma\n"
          ],
          "name": "stdout"
        },
        {
          "output_type": "stream",
          "text": [
            "WARNING:tensorflow:Unresolved object in checkpoint: (root).optimizer's state 'm' for (root).layer_with_weights-1.layer_with_weights-3.gamma\n"
          ],
          "name": "stderr"
        },
        {
          "output_type": "stream",
          "text": [
            "WARNING:tensorflow:Unresolved object in checkpoint: (root).optimizer's state 'm' for (root).layer_with_weights-1.layer_with_weights-3.beta\n"
          ],
          "name": "stdout"
        },
        {
          "output_type": "stream",
          "text": [
            "WARNING:tensorflow:Unresolved object in checkpoint: (root).optimizer's state 'm' for (root).layer_with_weights-1.layer_with_weights-3.beta\n"
          ],
          "name": "stderr"
        },
        {
          "output_type": "stream",
          "text": [
            "WARNING:tensorflow:Unresolved object in checkpoint: (root).optimizer's state 'm' for (root).layer_with_weights-1.layer_with_weights-4.kernel\n"
          ],
          "name": "stdout"
        },
        {
          "output_type": "stream",
          "text": [
            "WARNING:tensorflow:Unresolved object in checkpoint: (root).optimizer's state 'm' for (root).layer_with_weights-1.layer_with_weights-4.kernel\n"
          ],
          "name": "stderr"
        },
        {
          "output_type": "stream",
          "text": [
            "WARNING:tensorflow:Unresolved object in checkpoint: (root).optimizer's state 'm' for (root).layer_with_weights-1.layer_with_weights-5.gamma\n"
          ],
          "name": "stdout"
        },
        {
          "output_type": "stream",
          "text": [
            "WARNING:tensorflow:Unresolved object in checkpoint: (root).optimizer's state 'm' for (root).layer_with_weights-1.layer_with_weights-5.gamma\n"
          ],
          "name": "stderr"
        },
        {
          "output_type": "stream",
          "text": [
            "WARNING:tensorflow:Unresolved object in checkpoint: (root).optimizer's state 'm' for (root).layer_with_weights-1.layer_with_weights-5.beta\n"
          ],
          "name": "stdout"
        },
        {
          "output_type": "stream",
          "text": [
            "WARNING:tensorflow:Unresolved object in checkpoint: (root).optimizer's state 'm' for (root).layer_with_weights-1.layer_with_weights-5.beta\n"
          ],
          "name": "stderr"
        },
        {
          "output_type": "stream",
          "text": [
            "WARNING:tensorflow:Unresolved object in checkpoint: (root).optimizer's state 'm' for (root).layer_with_weights-1.layer_with_weights-6.kernel\n"
          ],
          "name": "stdout"
        },
        {
          "output_type": "stream",
          "text": [
            "WARNING:tensorflow:Unresolved object in checkpoint: (root).optimizer's state 'm' for (root).layer_with_weights-1.layer_with_weights-6.kernel\n"
          ],
          "name": "stderr"
        },
        {
          "output_type": "stream",
          "text": [
            "WARNING:tensorflow:Unresolved object in checkpoint: (root).optimizer's state 'm' for (root).layer_with_weights-1.layer_with_weights-7.gamma\n"
          ],
          "name": "stdout"
        },
        {
          "output_type": "stream",
          "text": [
            "WARNING:tensorflow:Unresolved object in checkpoint: (root).optimizer's state 'm' for (root).layer_with_weights-1.layer_with_weights-7.gamma\n"
          ],
          "name": "stderr"
        },
        {
          "output_type": "stream",
          "text": [
            "WARNING:tensorflow:Unresolved object in checkpoint: (root).optimizer's state 'm' for (root).layer_with_weights-1.layer_with_weights-7.beta\n"
          ],
          "name": "stdout"
        },
        {
          "output_type": "stream",
          "text": [
            "WARNING:tensorflow:Unresolved object in checkpoint: (root).optimizer's state 'm' for (root).layer_with_weights-1.layer_with_weights-7.beta\n"
          ],
          "name": "stderr"
        },
        {
          "output_type": "stream",
          "text": [
            "WARNING:tensorflow:Unresolved object in checkpoint: (root).optimizer's state 'm' for (root).layer_with_weights-1.layer_with_weights-8.kernel\n"
          ],
          "name": "stdout"
        },
        {
          "output_type": "stream",
          "text": [
            "WARNING:tensorflow:Unresolved object in checkpoint: (root).optimizer's state 'm' for (root).layer_with_weights-1.layer_with_weights-8.kernel\n"
          ],
          "name": "stderr"
        },
        {
          "output_type": "stream",
          "text": [
            "WARNING:tensorflow:Unresolved object in checkpoint: (root).optimizer's state 'm' for (root).layer_with_weights-1.layer_with_weights-9.gamma\n"
          ],
          "name": "stdout"
        },
        {
          "output_type": "stream",
          "text": [
            "WARNING:tensorflow:Unresolved object in checkpoint: (root).optimizer's state 'm' for (root).layer_with_weights-1.layer_with_weights-9.gamma\n"
          ],
          "name": "stderr"
        },
        {
          "output_type": "stream",
          "text": [
            "WARNING:tensorflow:Unresolved object in checkpoint: (root).optimizer's state 'm' for (root).layer_with_weights-1.layer_with_weights-9.beta\n"
          ],
          "name": "stdout"
        },
        {
          "output_type": "stream",
          "text": [
            "WARNING:tensorflow:Unresolved object in checkpoint: (root).optimizer's state 'm' for (root).layer_with_weights-1.layer_with_weights-9.beta\n"
          ],
          "name": "stderr"
        },
        {
          "output_type": "stream",
          "text": [
            "WARNING:tensorflow:Unresolved object in checkpoint: (root).optimizer's state 'm' for (root).layer_with_weights-2.layer_with_weights-0.kernel\n"
          ],
          "name": "stdout"
        },
        {
          "output_type": "stream",
          "text": [
            "WARNING:tensorflow:Unresolved object in checkpoint: (root).optimizer's state 'm' for (root).layer_with_weights-2.layer_with_weights-0.kernel\n"
          ],
          "name": "stderr"
        },
        {
          "output_type": "stream",
          "text": [
            "WARNING:tensorflow:Unresolved object in checkpoint: (root).optimizer's state 'm' for (root).layer_with_weights-2.layer_with_weights-1.gamma\n"
          ],
          "name": "stdout"
        },
        {
          "output_type": "stream",
          "text": [
            "WARNING:tensorflow:Unresolved object in checkpoint: (root).optimizer's state 'm' for (root).layer_with_weights-2.layer_with_weights-1.gamma\n"
          ],
          "name": "stderr"
        },
        {
          "output_type": "stream",
          "text": [
            "WARNING:tensorflow:Unresolved object in checkpoint: (root).optimizer's state 'm' for (root).layer_with_weights-2.layer_with_weights-1.beta\n"
          ],
          "name": "stdout"
        },
        {
          "output_type": "stream",
          "text": [
            "WARNING:tensorflow:Unresolved object in checkpoint: (root).optimizer's state 'm' for (root).layer_with_weights-2.layer_with_weights-1.beta\n"
          ],
          "name": "stderr"
        },
        {
          "output_type": "stream",
          "text": [
            "WARNING:tensorflow:Unresolved object in checkpoint: (root).optimizer's state 'm' for (root).layer_with_weights-2.layer_with_weights-2.kernel\n"
          ],
          "name": "stdout"
        },
        {
          "output_type": "stream",
          "text": [
            "WARNING:tensorflow:Unresolved object in checkpoint: (root).optimizer's state 'm' for (root).layer_with_weights-2.layer_with_weights-2.kernel\n"
          ],
          "name": "stderr"
        },
        {
          "output_type": "stream",
          "text": [
            "WARNING:tensorflow:Unresolved object in checkpoint: (root).optimizer's state 'm' for (root).layer_with_weights-2.layer_with_weights-3.gamma\n"
          ],
          "name": "stdout"
        },
        {
          "output_type": "stream",
          "text": [
            "WARNING:tensorflow:Unresolved object in checkpoint: (root).optimizer's state 'm' for (root).layer_with_weights-2.layer_with_weights-3.gamma\n"
          ],
          "name": "stderr"
        },
        {
          "output_type": "stream",
          "text": [
            "WARNING:tensorflow:Unresolved object in checkpoint: (root).optimizer's state 'm' for (root).layer_with_weights-2.layer_with_weights-3.beta\n"
          ],
          "name": "stdout"
        },
        {
          "output_type": "stream",
          "text": [
            "WARNING:tensorflow:Unresolved object in checkpoint: (root).optimizer's state 'm' for (root).layer_with_weights-2.layer_with_weights-3.beta\n"
          ],
          "name": "stderr"
        },
        {
          "output_type": "stream",
          "text": [
            "WARNING:tensorflow:Unresolved object in checkpoint: (root).optimizer's state 'm' for (root).layer_with_weights-2.layer_with_weights-4.kernel\n"
          ],
          "name": "stdout"
        },
        {
          "output_type": "stream",
          "text": [
            "WARNING:tensorflow:Unresolved object in checkpoint: (root).optimizer's state 'm' for (root).layer_with_weights-2.layer_with_weights-4.kernel\n"
          ],
          "name": "stderr"
        },
        {
          "output_type": "stream",
          "text": [
            "WARNING:tensorflow:Unresolved object in checkpoint: (root).optimizer's state 'm' for (root).layer_with_weights-2.layer_with_weights-5.gamma\n"
          ],
          "name": "stdout"
        },
        {
          "output_type": "stream",
          "text": [
            "WARNING:tensorflow:Unresolved object in checkpoint: (root).optimizer's state 'm' for (root).layer_with_weights-2.layer_with_weights-5.gamma\n"
          ],
          "name": "stderr"
        },
        {
          "output_type": "stream",
          "text": [
            "WARNING:tensorflow:Unresolved object in checkpoint: (root).optimizer's state 'm' for (root).layer_with_weights-2.layer_with_weights-5.beta\n"
          ],
          "name": "stdout"
        },
        {
          "output_type": "stream",
          "text": [
            "WARNING:tensorflow:Unresolved object in checkpoint: (root).optimizer's state 'm' for (root).layer_with_weights-2.layer_with_weights-5.beta\n"
          ],
          "name": "stderr"
        },
        {
          "output_type": "stream",
          "text": [
            "WARNING:tensorflow:Unresolved object in checkpoint: (root).optimizer's state 'm' for (root).layer_with_weights-2.layer_with_weights-6.kernel\n"
          ],
          "name": "stdout"
        },
        {
          "output_type": "stream",
          "text": [
            "WARNING:tensorflow:Unresolved object in checkpoint: (root).optimizer's state 'm' for (root).layer_with_weights-2.layer_with_weights-6.kernel\n"
          ],
          "name": "stderr"
        },
        {
          "output_type": "stream",
          "text": [
            "WARNING:tensorflow:Unresolved object in checkpoint: (root).optimizer's state 'm' for (root).layer_with_weights-2.layer_with_weights-7.gamma\n"
          ],
          "name": "stdout"
        },
        {
          "output_type": "stream",
          "text": [
            "WARNING:tensorflow:Unresolved object in checkpoint: (root).optimizer's state 'm' for (root).layer_with_weights-2.layer_with_weights-7.gamma\n"
          ],
          "name": "stderr"
        },
        {
          "output_type": "stream",
          "text": [
            "WARNING:tensorflow:Unresolved object in checkpoint: (root).optimizer's state 'm' for (root).layer_with_weights-2.layer_with_weights-7.beta\n"
          ],
          "name": "stdout"
        },
        {
          "output_type": "stream",
          "text": [
            "WARNING:tensorflow:Unresolved object in checkpoint: (root).optimizer's state 'm' for (root).layer_with_weights-2.layer_with_weights-7.beta\n"
          ],
          "name": "stderr"
        },
        {
          "output_type": "stream",
          "text": [
            "WARNING:tensorflow:Unresolved object in checkpoint: (root).optimizer's state 'm' for (root).layer_with_weights-2.layer_with_weights-8.kernel\n"
          ],
          "name": "stdout"
        },
        {
          "output_type": "stream",
          "text": [
            "WARNING:tensorflow:Unresolved object in checkpoint: (root).optimizer's state 'm' for (root).layer_with_weights-2.layer_with_weights-8.kernel\n"
          ],
          "name": "stderr"
        },
        {
          "output_type": "stream",
          "text": [
            "WARNING:tensorflow:Unresolved object in checkpoint: (root).optimizer's state 'm' for (root).layer_with_weights-2.layer_with_weights-9.gamma\n"
          ],
          "name": "stdout"
        },
        {
          "output_type": "stream",
          "text": [
            "WARNING:tensorflow:Unresolved object in checkpoint: (root).optimizer's state 'm' for (root).layer_with_weights-2.layer_with_weights-9.gamma\n"
          ],
          "name": "stderr"
        },
        {
          "output_type": "stream",
          "text": [
            "WARNING:tensorflow:Unresolved object in checkpoint: (root).optimizer's state 'm' for (root).layer_with_weights-2.layer_with_weights-9.beta\n"
          ],
          "name": "stdout"
        },
        {
          "output_type": "stream",
          "text": [
            "WARNING:tensorflow:Unresolved object in checkpoint: (root).optimizer's state 'm' for (root).layer_with_weights-2.layer_with_weights-9.beta\n"
          ],
          "name": "stderr"
        },
        {
          "output_type": "stream",
          "text": [
            "WARNING:tensorflow:Unresolved object in checkpoint: (root).optimizer's state 'm' for (root).layer_with_weights-2.layer_with_weights-10.kernel\n"
          ],
          "name": "stdout"
        },
        {
          "output_type": "stream",
          "text": [
            "WARNING:tensorflow:Unresolved object in checkpoint: (root).optimizer's state 'm' for (root).layer_with_weights-2.layer_with_weights-10.kernel\n"
          ],
          "name": "stderr"
        },
        {
          "output_type": "stream",
          "text": [
            "WARNING:tensorflow:Unresolved object in checkpoint: (root).optimizer's state 'm' for (root).layer_with_weights-2.layer_with_weights-11.gamma\n"
          ],
          "name": "stdout"
        },
        {
          "output_type": "stream",
          "text": [
            "WARNING:tensorflow:Unresolved object in checkpoint: (root).optimizer's state 'm' for (root).layer_with_weights-2.layer_with_weights-11.gamma\n"
          ],
          "name": "stderr"
        },
        {
          "output_type": "stream",
          "text": [
            "WARNING:tensorflow:Unresolved object in checkpoint: (root).optimizer's state 'm' for (root).layer_with_weights-2.layer_with_weights-11.beta\n"
          ],
          "name": "stdout"
        },
        {
          "output_type": "stream",
          "text": [
            "WARNING:tensorflow:Unresolved object in checkpoint: (root).optimizer's state 'm' for (root).layer_with_weights-2.layer_with_weights-11.beta\n"
          ],
          "name": "stderr"
        },
        {
          "output_type": "stream",
          "text": [
            "WARNING:tensorflow:Unresolved object in checkpoint: (root).optimizer's state 'm' for (root).layer_with_weights-3.layer_with_weights-0.kernel\n"
          ],
          "name": "stdout"
        },
        {
          "output_type": "stream",
          "text": [
            "WARNING:tensorflow:Unresolved object in checkpoint: (root).optimizer's state 'm' for (root).layer_with_weights-3.layer_with_weights-0.kernel\n"
          ],
          "name": "stderr"
        },
        {
          "output_type": "stream",
          "text": [
            "WARNING:tensorflow:Unresolved object in checkpoint: (root).optimizer's state 'm' for (root).layer_with_weights-3.layer_with_weights-1.gamma\n"
          ],
          "name": "stdout"
        },
        {
          "output_type": "stream",
          "text": [
            "WARNING:tensorflow:Unresolved object in checkpoint: (root).optimizer's state 'm' for (root).layer_with_weights-3.layer_with_weights-1.gamma\n"
          ],
          "name": "stderr"
        },
        {
          "output_type": "stream",
          "text": [
            "WARNING:tensorflow:Unresolved object in checkpoint: (root).optimizer's state 'm' for (root).layer_with_weights-3.layer_with_weights-1.beta\n"
          ],
          "name": "stdout"
        },
        {
          "output_type": "stream",
          "text": [
            "WARNING:tensorflow:Unresolved object in checkpoint: (root).optimizer's state 'm' for (root).layer_with_weights-3.layer_with_weights-1.beta\n"
          ],
          "name": "stderr"
        },
        {
          "output_type": "stream",
          "text": [
            "WARNING:tensorflow:Unresolved object in checkpoint: (root).optimizer's state 'm' for (root).layer_with_weights-3.layer_with_weights-2.kernel\n"
          ],
          "name": "stdout"
        },
        {
          "output_type": "stream",
          "text": [
            "WARNING:tensorflow:Unresolved object in checkpoint: (root).optimizer's state 'm' for (root).layer_with_weights-3.layer_with_weights-2.kernel\n"
          ],
          "name": "stderr"
        },
        {
          "output_type": "stream",
          "text": [
            "WARNING:tensorflow:Unresolved object in checkpoint: (root).optimizer's state 'm' for (root).layer_with_weights-3.layer_with_weights-3.gamma\n"
          ],
          "name": "stdout"
        },
        {
          "output_type": "stream",
          "text": [
            "WARNING:tensorflow:Unresolved object in checkpoint: (root).optimizer's state 'm' for (root).layer_with_weights-3.layer_with_weights-3.gamma\n"
          ],
          "name": "stderr"
        },
        {
          "output_type": "stream",
          "text": [
            "WARNING:tensorflow:Unresolved object in checkpoint: (root).optimizer's state 'm' for (root).layer_with_weights-3.layer_with_weights-3.beta\n"
          ],
          "name": "stdout"
        },
        {
          "output_type": "stream",
          "text": [
            "WARNING:tensorflow:Unresolved object in checkpoint: (root).optimizer's state 'm' for (root).layer_with_weights-3.layer_with_weights-3.beta\n"
          ],
          "name": "stderr"
        },
        {
          "output_type": "stream",
          "text": [
            "WARNING:tensorflow:Unresolved object in checkpoint: (root).optimizer's state 'm' for (root).layer_with_weights-3.layer_with_weights-4.kernel\n"
          ],
          "name": "stdout"
        },
        {
          "output_type": "stream",
          "text": [
            "WARNING:tensorflow:Unresolved object in checkpoint: (root).optimizer's state 'm' for (root).layer_with_weights-3.layer_with_weights-4.kernel\n"
          ],
          "name": "stderr"
        },
        {
          "output_type": "stream",
          "text": [
            "WARNING:tensorflow:Unresolved object in checkpoint: (root).optimizer's state 'm' for (root).layer_with_weights-3.layer_with_weights-5.gamma\n"
          ],
          "name": "stdout"
        },
        {
          "output_type": "stream",
          "text": [
            "WARNING:tensorflow:Unresolved object in checkpoint: (root).optimizer's state 'm' for (root).layer_with_weights-3.layer_with_weights-5.gamma\n"
          ],
          "name": "stderr"
        },
        {
          "output_type": "stream",
          "text": [
            "WARNING:tensorflow:Unresolved object in checkpoint: (root).optimizer's state 'm' for (root).layer_with_weights-3.layer_with_weights-5.beta\n"
          ],
          "name": "stdout"
        },
        {
          "output_type": "stream",
          "text": [
            "WARNING:tensorflow:Unresolved object in checkpoint: (root).optimizer's state 'm' for (root).layer_with_weights-3.layer_with_weights-5.beta\n"
          ],
          "name": "stderr"
        },
        {
          "output_type": "stream",
          "text": [
            "WARNING:tensorflow:Unresolved object in checkpoint: (root).optimizer's state 'm' for (root).layer_with_weights-3.layer_with_weights-6.kernel\n"
          ],
          "name": "stdout"
        },
        {
          "output_type": "stream",
          "text": [
            "WARNING:tensorflow:Unresolved object in checkpoint: (root).optimizer's state 'm' for (root).layer_with_weights-3.layer_with_weights-6.kernel\n"
          ],
          "name": "stderr"
        },
        {
          "output_type": "stream",
          "text": [
            "WARNING:tensorflow:Unresolved object in checkpoint: (root).optimizer's state 'm' for (root).layer_with_weights-3.layer_with_weights-7.gamma\n"
          ],
          "name": "stdout"
        },
        {
          "output_type": "stream",
          "text": [
            "WARNING:tensorflow:Unresolved object in checkpoint: (root).optimizer's state 'm' for (root).layer_with_weights-3.layer_with_weights-7.gamma\n"
          ],
          "name": "stderr"
        },
        {
          "output_type": "stream",
          "text": [
            "WARNING:tensorflow:Unresolved object in checkpoint: (root).optimizer's state 'm' for (root).layer_with_weights-3.layer_with_weights-7.beta\n"
          ],
          "name": "stdout"
        },
        {
          "output_type": "stream",
          "text": [
            "WARNING:tensorflow:Unresolved object in checkpoint: (root).optimizer's state 'm' for (root).layer_with_weights-3.layer_with_weights-7.beta\n"
          ],
          "name": "stderr"
        },
        {
          "output_type": "stream",
          "text": [
            "WARNING:tensorflow:Unresolved object in checkpoint: (root).optimizer's state 'm' for (root).layer_with_weights-3.layer_with_weights-8.kernel\n"
          ],
          "name": "stdout"
        },
        {
          "output_type": "stream",
          "text": [
            "\r  0%|          | 5/5000 [00:02<35:55,  2.32it/s]WARNING:tensorflow:Unresolved object in checkpoint: (root).optimizer's state 'm' for (root).layer_with_weights-3.layer_with_weights-8.kernel\n"
          ],
          "name": "stderr"
        },
        {
          "output_type": "stream",
          "text": [
            "WARNING:tensorflow:Unresolved object in checkpoint: (root).optimizer's state 'm' for (root).layer_with_weights-3.layer_with_weights-9.gamma\n"
          ],
          "name": "stdout"
        },
        {
          "output_type": "stream",
          "text": [
            "WARNING:tensorflow:Unresolved object in checkpoint: (root).optimizer's state 'm' for (root).layer_with_weights-3.layer_with_weights-9.gamma\n"
          ],
          "name": "stderr"
        },
        {
          "output_type": "stream",
          "text": [
            "WARNING:tensorflow:Unresolved object in checkpoint: (root).optimizer's state 'm' for (root).layer_with_weights-3.layer_with_weights-9.beta\n"
          ],
          "name": "stdout"
        },
        {
          "output_type": "stream",
          "text": [
            "WARNING:tensorflow:Unresolved object in checkpoint: (root).optimizer's state 'm' for (root).layer_with_weights-3.layer_with_weights-9.beta\n"
          ],
          "name": "stderr"
        },
        {
          "output_type": "stream",
          "text": [
            "WARNING:tensorflow:Unresolved object in checkpoint: (root).optimizer's state 'm' for (root).layer_with_weights-3.layer_with_weights-10.kernel\n"
          ],
          "name": "stdout"
        },
        {
          "output_type": "stream",
          "text": [
            "WARNING:tensorflow:Unresolved object in checkpoint: (root).optimizer's state 'm' for (root).layer_with_weights-3.layer_with_weights-10.kernel\n"
          ],
          "name": "stderr"
        },
        {
          "output_type": "stream",
          "text": [
            "WARNING:tensorflow:Unresolved object in checkpoint: (root).optimizer's state 'm' for (root).layer_with_weights-3.layer_with_weights-11.gamma\n"
          ],
          "name": "stdout"
        },
        {
          "output_type": "stream",
          "text": [
            "WARNING:tensorflow:Unresolved object in checkpoint: (root).optimizer's state 'm' for (root).layer_with_weights-3.layer_with_weights-11.gamma\n"
          ],
          "name": "stderr"
        },
        {
          "output_type": "stream",
          "text": [
            "WARNING:tensorflow:Unresolved object in checkpoint: (root).optimizer's state 'm' for (root).layer_with_weights-3.layer_with_weights-11.beta\n"
          ],
          "name": "stdout"
        },
        {
          "output_type": "stream",
          "text": [
            "WARNING:tensorflow:Unresolved object in checkpoint: (root).optimizer's state 'm' for (root).layer_with_weights-3.layer_with_weights-11.beta\n"
          ],
          "name": "stderr"
        },
        {
          "output_type": "stream",
          "text": [
            "WARNING:tensorflow:Unresolved object in checkpoint: (root).optimizer's state 'm' for (root).layer_with_weights-4.layer_with_weights-0.kernel\n"
          ],
          "name": "stdout"
        },
        {
          "output_type": "stream",
          "text": [
            "WARNING:tensorflow:Unresolved object in checkpoint: (root).optimizer's state 'm' for (root).layer_with_weights-4.layer_with_weights-0.kernel\n"
          ],
          "name": "stderr"
        },
        {
          "output_type": "stream",
          "text": [
            "WARNING:tensorflow:Unresolved object in checkpoint: (root).optimizer's state 'm' for (root).layer_with_weights-4.layer_with_weights-1.gamma\n"
          ],
          "name": "stdout"
        },
        {
          "output_type": "stream",
          "text": [
            "WARNING:tensorflow:Unresolved object in checkpoint: (root).optimizer's state 'm' for (root).layer_with_weights-4.layer_with_weights-1.gamma\n"
          ],
          "name": "stderr"
        },
        {
          "output_type": "stream",
          "text": [
            "WARNING:tensorflow:Unresolved object in checkpoint: (root).optimizer's state 'm' for (root).layer_with_weights-4.layer_with_weights-1.beta\n"
          ],
          "name": "stdout"
        },
        {
          "output_type": "stream",
          "text": [
            "WARNING:tensorflow:Unresolved object in checkpoint: (root).optimizer's state 'm' for (root).layer_with_weights-4.layer_with_weights-1.beta\n"
          ],
          "name": "stderr"
        },
        {
          "output_type": "stream",
          "text": [
            "WARNING:tensorflow:Unresolved object in checkpoint: (root).optimizer's state 'm' for (root).layer_with_weights-4.layer_with_weights-2.kernel\n"
          ],
          "name": "stdout"
        },
        {
          "output_type": "stream",
          "text": [
            "WARNING:tensorflow:Unresolved object in checkpoint: (root).optimizer's state 'm' for (root).layer_with_weights-4.layer_with_weights-2.kernel\n"
          ],
          "name": "stderr"
        },
        {
          "output_type": "stream",
          "text": [
            "WARNING:tensorflow:Unresolved object in checkpoint: (root).optimizer's state 'm' for (root).layer_with_weights-4.layer_with_weights-2.bias\n"
          ],
          "name": "stdout"
        },
        {
          "output_type": "stream",
          "text": [
            "WARNING:tensorflow:Unresolved object in checkpoint: (root).optimizer's state 'm' for (root).layer_with_weights-4.layer_with_weights-2.bias\n"
          ],
          "name": "stderr"
        },
        {
          "output_type": "stream",
          "text": [
            "WARNING:tensorflow:Unresolved object in checkpoint: (root).optimizer's state 'm' for (root).layer_with_weights-5.layer_with_weights-0.kernel\n"
          ],
          "name": "stdout"
        },
        {
          "output_type": "stream",
          "text": [
            "WARNING:tensorflow:Unresolved object in checkpoint: (root).optimizer's state 'm' for (root).layer_with_weights-5.layer_with_weights-0.kernel\n"
          ],
          "name": "stderr"
        },
        {
          "output_type": "stream",
          "text": [
            "WARNING:tensorflow:Unresolved object in checkpoint: (root).optimizer's state 'm' for (root).layer_with_weights-5.layer_with_weights-1.gamma\n"
          ],
          "name": "stdout"
        },
        {
          "output_type": "stream",
          "text": [
            "WARNING:tensorflow:Unresolved object in checkpoint: (root).optimizer's state 'm' for (root).layer_with_weights-5.layer_with_weights-1.gamma\n"
          ],
          "name": "stderr"
        },
        {
          "output_type": "stream",
          "text": [
            "WARNING:tensorflow:Unresolved object in checkpoint: (root).optimizer's state 'm' for (root).layer_with_weights-5.layer_with_weights-1.beta\n"
          ],
          "name": "stdout"
        },
        {
          "output_type": "stream",
          "text": [
            "WARNING:tensorflow:Unresolved object in checkpoint: (root).optimizer's state 'm' for (root).layer_with_weights-5.layer_with_weights-1.beta\n"
          ],
          "name": "stderr"
        },
        {
          "output_type": "stream",
          "text": [
            "WARNING:tensorflow:Unresolved object in checkpoint: (root).optimizer's state 'm' for (root).layer_with_weights-5.layer_with_weights-2.kernel\n"
          ],
          "name": "stdout"
        },
        {
          "output_type": "stream",
          "text": [
            "WARNING:tensorflow:Unresolved object in checkpoint: (root).optimizer's state 'm' for (root).layer_with_weights-5.layer_with_weights-2.kernel\n"
          ],
          "name": "stderr"
        },
        {
          "output_type": "stream",
          "text": [
            "WARNING:tensorflow:Unresolved object in checkpoint: (root).optimizer's state 'm' for (root).layer_with_weights-5.layer_with_weights-2.bias\n"
          ],
          "name": "stdout"
        },
        {
          "output_type": "stream",
          "text": [
            "WARNING:tensorflow:Unresolved object in checkpoint: (root).optimizer's state 'm' for (root).layer_with_weights-5.layer_with_weights-2.bias\n"
          ],
          "name": "stderr"
        },
        {
          "output_type": "stream",
          "text": [
            "WARNING:tensorflow:Unresolved object in checkpoint: (root).optimizer's state 'm' for (root).layer_with_weights-6.layer_with_weights-0.kernel\n"
          ],
          "name": "stdout"
        },
        {
          "output_type": "stream",
          "text": [
            "WARNING:tensorflow:Unresolved object in checkpoint: (root).optimizer's state 'm' for (root).layer_with_weights-6.layer_with_weights-0.kernel\n"
          ],
          "name": "stderr"
        },
        {
          "output_type": "stream",
          "text": [
            "WARNING:tensorflow:Unresolved object in checkpoint: (root).optimizer's state 'm' for (root).layer_with_weights-6.layer_with_weights-1.gamma\n"
          ],
          "name": "stdout"
        },
        {
          "output_type": "stream",
          "text": [
            "WARNING:tensorflow:Unresolved object in checkpoint: (root).optimizer's state 'm' for (root).layer_with_weights-6.layer_with_weights-1.gamma\n"
          ],
          "name": "stderr"
        },
        {
          "output_type": "stream",
          "text": [
            "WARNING:tensorflow:Unresolved object in checkpoint: (root).optimizer's state 'm' for (root).layer_with_weights-6.layer_with_weights-1.beta\n"
          ],
          "name": "stdout"
        },
        {
          "output_type": "stream",
          "text": [
            "WARNING:tensorflow:Unresolved object in checkpoint: (root).optimizer's state 'm' for (root).layer_with_weights-6.layer_with_weights-1.beta\n"
          ],
          "name": "stderr"
        },
        {
          "output_type": "stream",
          "text": [
            "WARNING:tensorflow:Unresolved object in checkpoint: (root).optimizer's state 'm' for (root).layer_with_weights-6.layer_with_weights-2.kernel\n"
          ],
          "name": "stdout"
        },
        {
          "output_type": "stream",
          "text": [
            "WARNING:tensorflow:Unresolved object in checkpoint: (root).optimizer's state 'm' for (root).layer_with_weights-6.layer_with_weights-2.kernel\n"
          ],
          "name": "stderr"
        },
        {
          "output_type": "stream",
          "text": [
            "WARNING:tensorflow:Unresolved object in checkpoint: (root).optimizer's state 'm' for (root).layer_with_weights-6.layer_with_weights-2.bias\n"
          ],
          "name": "stdout"
        },
        {
          "output_type": "stream",
          "text": [
            "WARNING:tensorflow:Unresolved object in checkpoint: (root).optimizer's state 'm' for (root).layer_with_weights-6.layer_with_weights-2.bias\n"
          ],
          "name": "stderr"
        },
        {
          "output_type": "stream",
          "text": [
            "WARNING:tensorflow:Unresolved object in checkpoint: (root).optimizer's state 'v' for (root).layer_with_weights-1.layer_with_weights-0.kernel\n"
          ],
          "name": "stdout"
        },
        {
          "output_type": "stream",
          "text": [
            "WARNING:tensorflow:Unresolved object in checkpoint: (root).optimizer's state 'v' for (root).layer_with_weights-1.layer_with_weights-0.kernel\n"
          ],
          "name": "stderr"
        },
        {
          "output_type": "stream",
          "text": [
            "WARNING:tensorflow:Unresolved object in checkpoint: (root).optimizer's state 'v' for (root).layer_with_weights-1.layer_with_weights-1.gamma\n"
          ],
          "name": "stdout"
        },
        {
          "output_type": "stream",
          "text": [
            "WARNING:tensorflow:Unresolved object in checkpoint: (root).optimizer's state 'v' for (root).layer_with_weights-1.layer_with_weights-1.gamma\n"
          ],
          "name": "stderr"
        },
        {
          "output_type": "stream",
          "text": [
            "WARNING:tensorflow:Unresolved object in checkpoint: (root).optimizer's state 'v' for (root).layer_with_weights-1.layer_with_weights-1.beta\n"
          ],
          "name": "stdout"
        },
        {
          "output_type": "stream",
          "text": [
            "WARNING:tensorflow:Unresolved object in checkpoint: (root).optimizer's state 'v' for (root).layer_with_weights-1.layer_with_weights-1.beta\n"
          ],
          "name": "stderr"
        },
        {
          "output_type": "stream",
          "text": [
            "WARNING:tensorflow:Unresolved object in checkpoint: (root).optimizer's state 'v' for (root).layer_with_weights-1.layer_with_weights-2.kernel\n"
          ],
          "name": "stdout"
        },
        {
          "output_type": "stream",
          "text": [
            "WARNING:tensorflow:Unresolved object in checkpoint: (root).optimizer's state 'v' for (root).layer_with_weights-1.layer_with_weights-2.kernel\n"
          ],
          "name": "stderr"
        },
        {
          "output_type": "stream",
          "text": [
            "WARNING:tensorflow:Unresolved object in checkpoint: (root).optimizer's state 'v' for (root).layer_with_weights-1.layer_with_weights-3.gamma\n"
          ],
          "name": "stdout"
        },
        {
          "output_type": "stream",
          "text": [
            "WARNING:tensorflow:Unresolved object in checkpoint: (root).optimizer's state 'v' for (root).layer_with_weights-1.layer_with_weights-3.gamma\n"
          ],
          "name": "stderr"
        },
        {
          "output_type": "stream",
          "text": [
            "WARNING:tensorflow:Unresolved object in checkpoint: (root).optimizer's state 'v' for (root).layer_with_weights-1.layer_with_weights-3.beta\n"
          ],
          "name": "stdout"
        },
        {
          "output_type": "stream",
          "text": [
            "WARNING:tensorflow:Unresolved object in checkpoint: (root).optimizer's state 'v' for (root).layer_with_weights-1.layer_with_weights-3.beta\n"
          ],
          "name": "stderr"
        },
        {
          "output_type": "stream",
          "text": [
            "WARNING:tensorflow:Unresolved object in checkpoint: (root).optimizer's state 'v' for (root).layer_with_weights-1.layer_with_weights-4.kernel\n"
          ],
          "name": "stdout"
        },
        {
          "output_type": "stream",
          "text": [
            "WARNING:tensorflow:Unresolved object in checkpoint: (root).optimizer's state 'v' for (root).layer_with_weights-1.layer_with_weights-4.kernel\n"
          ],
          "name": "stderr"
        },
        {
          "output_type": "stream",
          "text": [
            "WARNING:tensorflow:Unresolved object in checkpoint: (root).optimizer's state 'v' for (root).layer_with_weights-1.layer_with_weights-5.gamma\n"
          ],
          "name": "stdout"
        },
        {
          "output_type": "stream",
          "text": [
            "WARNING:tensorflow:Unresolved object in checkpoint: (root).optimizer's state 'v' for (root).layer_with_weights-1.layer_with_weights-5.gamma\n"
          ],
          "name": "stderr"
        },
        {
          "output_type": "stream",
          "text": [
            "WARNING:tensorflow:Unresolved object in checkpoint: (root).optimizer's state 'v' for (root).layer_with_weights-1.layer_with_weights-5.beta\n"
          ],
          "name": "stdout"
        },
        {
          "output_type": "stream",
          "text": [
            "WARNING:tensorflow:Unresolved object in checkpoint: (root).optimizer's state 'v' for (root).layer_with_weights-1.layer_with_weights-5.beta\n"
          ],
          "name": "stderr"
        },
        {
          "output_type": "stream",
          "text": [
            "WARNING:tensorflow:Unresolved object in checkpoint: (root).optimizer's state 'v' for (root).layer_with_weights-1.layer_with_weights-6.kernel\n"
          ],
          "name": "stdout"
        },
        {
          "output_type": "stream",
          "text": [
            "WARNING:tensorflow:Unresolved object in checkpoint: (root).optimizer's state 'v' for (root).layer_with_weights-1.layer_with_weights-6.kernel\n"
          ],
          "name": "stderr"
        },
        {
          "output_type": "stream",
          "text": [
            "WARNING:tensorflow:Unresolved object in checkpoint: (root).optimizer's state 'v' for (root).layer_with_weights-1.layer_with_weights-7.gamma\n"
          ],
          "name": "stdout"
        },
        {
          "output_type": "stream",
          "text": [
            "WARNING:tensorflow:Unresolved object in checkpoint: (root).optimizer's state 'v' for (root).layer_with_weights-1.layer_with_weights-7.gamma\n"
          ],
          "name": "stderr"
        },
        {
          "output_type": "stream",
          "text": [
            "WARNING:tensorflow:Unresolved object in checkpoint: (root).optimizer's state 'v' for (root).layer_with_weights-1.layer_with_weights-7.beta\n"
          ],
          "name": "stdout"
        },
        {
          "output_type": "stream",
          "text": [
            "WARNING:tensorflow:Unresolved object in checkpoint: (root).optimizer's state 'v' for (root).layer_with_weights-1.layer_with_weights-7.beta\n"
          ],
          "name": "stderr"
        },
        {
          "output_type": "stream",
          "text": [
            "WARNING:tensorflow:Unresolved object in checkpoint: (root).optimizer's state 'v' for (root).layer_with_weights-1.layer_with_weights-8.kernel\n"
          ],
          "name": "stdout"
        },
        {
          "output_type": "stream",
          "text": [
            "WARNING:tensorflow:Unresolved object in checkpoint: (root).optimizer's state 'v' for (root).layer_with_weights-1.layer_with_weights-8.kernel\n"
          ],
          "name": "stderr"
        },
        {
          "output_type": "stream",
          "text": [
            "WARNING:tensorflow:Unresolved object in checkpoint: (root).optimizer's state 'v' for (root).layer_with_weights-1.layer_with_weights-9.gamma\n"
          ],
          "name": "stdout"
        },
        {
          "output_type": "stream",
          "text": [
            "WARNING:tensorflow:Unresolved object in checkpoint: (root).optimizer's state 'v' for (root).layer_with_weights-1.layer_with_weights-9.gamma\n"
          ],
          "name": "stderr"
        },
        {
          "output_type": "stream",
          "text": [
            "WARNING:tensorflow:Unresolved object in checkpoint: (root).optimizer's state 'v' for (root).layer_with_weights-1.layer_with_weights-9.beta\n"
          ],
          "name": "stdout"
        },
        {
          "output_type": "stream",
          "text": [
            "WARNING:tensorflow:Unresolved object in checkpoint: (root).optimizer's state 'v' for (root).layer_with_weights-1.layer_with_weights-9.beta\n"
          ],
          "name": "stderr"
        },
        {
          "output_type": "stream",
          "text": [
            "WARNING:tensorflow:Unresolved object in checkpoint: (root).optimizer's state 'v' for (root).layer_with_weights-2.layer_with_weights-0.kernel\n"
          ],
          "name": "stdout"
        },
        {
          "output_type": "stream",
          "text": [
            "WARNING:tensorflow:Unresolved object in checkpoint: (root).optimizer's state 'v' for (root).layer_with_weights-2.layer_with_weights-0.kernel\n"
          ],
          "name": "stderr"
        },
        {
          "output_type": "stream",
          "text": [
            "WARNING:tensorflow:Unresolved object in checkpoint: (root).optimizer's state 'v' for (root).layer_with_weights-2.layer_with_weights-1.gamma\n"
          ],
          "name": "stdout"
        },
        {
          "output_type": "stream",
          "text": [
            "WARNING:tensorflow:Unresolved object in checkpoint: (root).optimizer's state 'v' for (root).layer_with_weights-2.layer_with_weights-1.gamma\n"
          ],
          "name": "stderr"
        },
        {
          "output_type": "stream",
          "text": [
            "WARNING:tensorflow:Unresolved object in checkpoint: (root).optimizer's state 'v' for (root).layer_with_weights-2.layer_with_weights-1.beta\n"
          ],
          "name": "stdout"
        },
        {
          "output_type": "stream",
          "text": [
            "WARNING:tensorflow:Unresolved object in checkpoint: (root).optimizer's state 'v' for (root).layer_with_weights-2.layer_with_weights-1.beta\n"
          ],
          "name": "stderr"
        },
        {
          "output_type": "stream",
          "text": [
            "WARNING:tensorflow:Unresolved object in checkpoint: (root).optimizer's state 'v' for (root).layer_with_weights-2.layer_with_weights-2.kernel\n"
          ],
          "name": "stdout"
        },
        {
          "output_type": "stream",
          "text": [
            "WARNING:tensorflow:Unresolved object in checkpoint: (root).optimizer's state 'v' for (root).layer_with_weights-2.layer_with_weights-2.kernel\n"
          ],
          "name": "stderr"
        },
        {
          "output_type": "stream",
          "text": [
            "WARNING:tensorflow:Unresolved object in checkpoint: (root).optimizer's state 'v' for (root).layer_with_weights-2.layer_with_weights-3.gamma\n"
          ],
          "name": "stdout"
        },
        {
          "output_type": "stream",
          "text": [
            "WARNING:tensorflow:Unresolved object in checkpoint: (root).optimizer's state 'v' for (root).layer_with_weights-2.layer_with_weights-3.gamma\n"
          ],
          "name": "stderr"
        },
        {
          "output_type": "stream",
          "text": [
            "WARNING:tensorflow:Unresolved object in checkpoint: (root).optimizer's state 'v' for (root).layer_with_weights-2.layer_with_weights-3.beta\n"
          ],
          "name": "stdout"
        },
        {
          "output_type": "stream",
          "text": [
            "WARNING:tensorflow:Unresolved object in checkpoint: (root).optimizer's state 'v' for (root).layer_with_weights-2.layer_with_weights-3.beta\n"
          ],
          "name": "stderr"
        },
        {
          "output_type": "stream",
          "text": [
            "WARNING:tensorflow:Unresolved object in checkpoint: (root).optimizer's state 'v' for (root).layer_with_weights-2.layer_with_weights-4.kernel\n"
          ],
          "name": "stdout"
        },
        {
          "output_type": "stream",
          "text": [
            "WARNING:tensorflow:Unresolved object in checkpoint: (root).optimizer's state 'v' for (root).layer_with_weights-2.layer_with_weights-4.kernel\n"
          ],
          "name": "stderr"
        },
        {
          "output_type": "stream",
          "text": [
            "WARNING:tensorflow:Unresolved object in checkpoint: (root).optimizer's state 'v' for (root).layer_with_weights-2.layer_with_weights-5.gamma\n"
          ],
          "name": "stdout"
        },
        {
          "output_type": "stream",
          "text": [
            "WARNING:tensorflow:Unresolved object in checkpoint: (root).optimizer's state 'v' for (root).layer_with_weights-2.layer_with_weights-5.gamma\n"
          ],
          "name": "stderr"
        },
        {
          "output_type": "stream",
          "text": [
            "WARNING:tensorflow:Unresolved object in checkpoint: (root).optimizer's state 'v' for (root).layer_with_weights-2.layer_with_weights-5.beta\n"
          ],
          "name": "stdout"
        },
        {
          "output_type": "stream",
          "text": [
            "WARNING:tensorflow:Unresolved object in checkpoint: (root).optimizer's state 'v' for (root).layer_with_weights-2.layer_with_weights-5.beta\n"
          ],
          "name": "stderr"
        },
        {
          "output_type": "stream",
          "text": [
            "WARNING:tensorflow:Unresolved object in checkpoint: (root).optimizer's state 'v' for (root).layer_with_weights-2.layer_with_weights-6.kernel\n"
          ],
          "name": "stdout"
        },
        {
          "output_type": "stream",
          "text": [
            "WARNING:tensorflow:Unresolved object in checkpoint: (root).optimizer's state 'v' for (root).layer_with_weights-2.layer_with_weights-6.kernel\n"
          ],
          "name": "stderr"
        },
        {
          "output_type": "stream",
          "text": [
            "WARNING:tensorflow:Unresolved object in checkpoint: (root).optimizer's state 'v' for (root).layer_with_weights-2.layer_with_weights-7.gamma\n"
          ],
          "name": "stdout"
        },
        {
          "output_type": "stream",
          "text": [
            "WARNING:tensorflow:Unresolved object in checkpoint: (root).optimizer's state 'v' for (root).layer_with_weights-2.layer_with_weights-7.gamma\n"
          ],
          "name": "stderr"
        },
        {
          "output_type": "stream",
          "text": [
            "WARNING:tensorflow:Unresolved object in checkpoint: (root).optimizer's state 'v' for (root).layer_with_weights-2.layer_with_weights-7.beta\n"
          ],
          "name": "stdout"
        },
        {
          "output_type": "stream",
          "text": [
            "WARNING:tensorflow:Unresolved object in checkpoint: (root).optimizer's state 'v' for (root).layer_with_weights-2.layer_with_weights-7.beta\n"
          ],
          "name": "stderr"
        },
        {
          "output_type": "stream",
          "text": [
            "WARNING:tensorflow:Unresolved object in checkpoint: (root).optimizer's state 'v' for (root).layer_with_weights-2.layer_with_weights-8.kernel\n"
          ],
          "name": "stdout"
        },
        {
          "output_type": "stream",
          "text": [
            "WARNING:tensorflow:Unresolved object in checkpoint: (root).optimizer's state 'v' for (root).layer_with_weights-2.layer_with_weights-8.kernel\n"
          ],
          "name": "stderr"
        },
        {
          "output_type": "stream",
          "text": [
            "WARNING:tensorflow:Unresolved object in checkpoint: (root).optimizer's state 'v' for (root).layer_with_weights-2.layer_with_weights-9.gamma\n"
          ],
          "name": "stdout"
        },
        {
          "output_type": "stream",
          "text": [
            "WARNING:tensorflow:Unresolved object in checkpoint: (root).optimizer's state 'v' for (root).layer_with_weights-2.layer_with_weights-9.gamma\n"
          ],
          "name": "stderr"
        },
        {
          "output_type": "stream",
          "text": [
            "WARNING:tensorflow:Unresolved object in checkpoint: (root).optimizer's state 'v' for (root).layer_with_weights-2.layer_with_weights-9.beta\n"
          ],
          "name": "stdout"
        },
        {
          "output_type": "stream",
          "text": [
            "WARNING:tensorflow:Unresolved object in checkpoint: (root).optimizer's state 'v' for (root).layer_with_weights-2.layer_with_weights-9.beta\n"
          ],
          "name": "stderr"
        },
        {
          "output_type": "stream",
          "text": [
            "WARNING:tensorflow:Unresolved object in checkpoint: (root).optimizer's state 'v' for (root).layer_with_weights-2.layer_with_weights-10.kernel\n"
          ],
          "name": "stdout"
        },
        {
          "output_type": "stream",
          "text": [
            "WARNING:tensorflow:Unresolved object in checkpoint: (root).optimizer's state 'v' for (root).layer_with_weights-2.layer_with_weights-10.kernel\n"
          ],
          "name": "stderr"
        },
        {
          "output_type": "stream",
          "text": [
            "WARNING:tensorflow:Unresolved object in checkpoint: (root).optimizer's state 'v' for (root).layer_with_weights-2.layer_with_weights-11.gamma\n"
          ],
          "name": "stdout"
        },
        {
          "output_type": "stream",
          "text": [
            "WARNING:tensorflow:Unresolved object in checkpoint: (root).optimizer's state 'v' for (root).layer_with_weights-2.layer_with_weights-11.gamma\n"
          ],
          "name": "stderr"
        },
        {
          "output_type": "stream",
          "text": [
            "WARNING:tensorflow:Unresolved object in checkpoint: (root).optimizer's state 'v' for (root).layer_with_weights-2.layer_with_weights-11.beta\n"
          ],
          "name": "stdout"
        },
        {
          "output_type": "stream",
          "text": [
            "WARNING:tensorflow:Unresolved object in checkpoint: (root).optimizer's state 'v' for (root).layer_with_weights-2.layer_with_weights-11.beta\n"
          ],
          "name": "stderr"
        },
        {
          "output_type": "stream",
          "text": [
            "WARNING:tensorflow:Unresolved object in checkpoint: (root).optimizer's state 'v' for (root).layer_with_weights-3.layer_with_weights-0.kernel\n"
          ],
          "name": "stdout"
        },
        {
          "output_type": "stream",
          "text": [
            "WARNING:tensorflow:Unresolved object in checkpoint: (root).optimizer's state 'v' for (root).layer_with_weights-3.layer_with_weights-0.kernel\n"
          ],
          "name": "stderr"
        },
        {
          "output_type": "stream",
          "text": [
            "WARNING:tensorflow:Unresolved object in checkpoint: (root).optimizer's state 'v' for (root).layer_with_weights-3.layer_with_weights-1.gamma\n"
          ],
          "name": "stdout"
        },
        {
          "output_type": "stream",
          "text": [
            "WARNING:tensorflow:Unresolved object in checkpoint: (root).optimizer's state 'v' for (root).layer_with_weights-3.layer_with_weights-1.gamma\n"
          ],
          "name": "stderr"
        },
        {
          "output_type": "stream",
          "text": [
            "WARNING:tensorflow:Unresolved object in checkpoint: (root).optimizer's state 'v' for (root).layer_with_weights-3.layer_with_weights-1.beta\n"
          ],
          "name": "stdout"
        },
        {
          "output_type": "stream",
          "text": [
            "WARNING:tensorflow:Unresolved object in checkpoint: (root).optimizer's state 'v' for (root).layer_with_weights-3.layer_with_weights-1.beta\n"
          ],
          "name": "stderr"
        },
        {
          "output_type": "stream",
          "text": [
            "WARNING:tensorflow:Unresolved object in checkpoint: (root).optimizer's state 'v' for (root).layer_with_weights-3.layer_with_weights-2.kernel\n"
          ],
          "name": "stdout"
        },
        {
          "output_type": "stream",
          "text": [
            "WARNING:tensorflow:Unresolved object in checkpoint: (root).optimizer's state 'v' for (root).layer_with_weights-3.layer_with_weights-2.kernel\n"
          ],
          "name": "stderr"
        },
        {
          "output_type": "stream",
          "text": [
            "WARNING:tensorflow:Unresolved object in checkpoint: (root).optimizer's state 'v' for (root).layer_with_weights-3.layer_with_weights-3.gamma\n"
          ],
          "name": "stdout"
        },
        {
          "output_type": "stream",
          "text": [
            "WARNING:tensorflow:Unresolved object in checkpoint: (root).optimizer's state 'v' for (root).layer_with_weights-3.layer_with_weights-3.gamma\n"
          ],
          "name": "stderr"
        },
        {
          "output_type": "stream",
          "text": [
            "WARNING:tensorflow:Unresolved object in checkpoint: (root).optimizer's state 'v' for (root).layer_with_weights-3.layer_with_weights-3.beta\n"
          ],
          "name": "stdout"
        },
        {
          "output_type": "stream",
          "text": [
            "WARNING:tensorflow:Unresolved object in checkpoint: (root).optimizer's state 'v' for (root).layer_with_weights-3.layer_with_weights-3.beta\n"
          ],
          "name": "stderr"
        },
        {
          "output_type": "stream",
          "text": [
            "WARNING:tensorflow:Unresolved object in checkpoint: (root).optimizer's state 'v' for (root).layer_with_weights-3.layer_with_weights-4.kernel\n"
          ],
          "name": "stdout"
        },
        {
          "output_type": "stream",
          "text": [
            "WARNING:tensorflow:Unresolved object in checkpoint: (root).optimizer's state 'v' for (root).layer_with_weights-3.layer_with_weights-4.kernel\n"
          ],
          "name": "stderr"
        },
        {
          "output_type": "stream",
          "text": [
            "WARNING:tensorflow:Unresolved object in checkpoint: (root).optimizer's state 'v' for (root).layer_with_weights-3.layer_with_weights-5.gamma\n"
          ],
          "name": "stdout"
        },
        {
          "output_type": "stream",
          "text": [
            "WARNING:tensorflow:Unresolved object in checkpoint: (root).optimizer's state 'v' for (root).layer_with_weights-3.layer_with_weights-5.gamma\n"
          ],
          "name": "stderr"
        },
        {
          "output_type": "stream",
          "text": [
            "WARNING:tensorflow:Unresolved object in checkpoint: (root).optimizer's state 'v' for (root).layer_with_weights-3.layer_with_weights-5.beta\n"
          ],
          "name": "stdout"
        },
        {
          "output_type": "stream",
          "text": [
            "WARNING:tensorflow:Unresolved object in checkpoint: (root).optimizer's state 'v' for (root).layer_with_weights-3.layer_with_weights-5.beta\n"
          ],
          "name": "stderr"
        },
        {
          "output_type": "stream",
          "text": [
            "WARNING:tensorflow:Unresolved object in checkpoint: (root).optimizer's state 'v' for (root).layer_with_weights-3.layer_with_weights-6.kernel\n"
          ],
          "name": "stdout"
        },
        {
          "output_type": "stream",
          "text": [
            "WARNING:tensorflow:Unresolved object in checkpoint: (root).optimizer's state 'v' for (root).layer_with_weights-3.layer_with_weights-6.kernel\n"
          ],
          "name": "stderr"
        },
        {
          "output_type": "stream",
          "text": [
            "WARNING:tensorflow:Unresolved object in checkpoint: (root).optimizer's state 'v' for (root).layer_with_weights-3.layer_with_weights-7.gamma\n"
          ],
          "name": "stdout"
        },
        {
          "output_type": "stream",
          "text": [
            "WARNING:tensorflow:Unresolved object in checkpoint: (root).optimizer's state 'v' for (root).layer_with_weights-3.layer_with_weights-7.gamma\n"
          ],
          "name": "stderr"
        },
        {
          "output_type": "stream",
          "text": [
            "WARNING:tensorflow:Unresolved object in checkpoint: (root).optimizer's state 'v' for (root).layer_with_weights-3.layer_with_weights-7.beta\n"
          ],
          "name": "stdout"
        },
        {
          "output_type": "stream",
          "text": [
            "WARNING:tensorflow:Unresolved object in checkpoint: (root).optimizer's state 'v' for (root).layer_with_weights-3.layer_with_weights-7.beta\n"
          ],
          "name": "stderr"
        },
        {
          "output_type": "stream",
          "text": [
            "WARNING:tensorflow:Unresolved object in checkpoint: (root).optimizer's state 'v' for (root).layer_with_weights-3.layer_with_weights-8.kernel\n"
          ],
          "name": "stdout"
        },
        {
          "output_type": "stream",
          "text": [
            "WARNING:tensorflow:Unresolved object in checkpoint: (root).optimizer's state 'v' for (root).layer_with_weights-3.layer_with_weights-8.kernel\n"
          ],
          "name": "stderr"
        },
        {
          "output_type": "stream",
          "text": [
            "WARNING:tensorflow:Unresolved object in checkpoint: (root).optimizer's state 'v' for (root).layer_with_weights-3.layer_with_weights-9.gamma\n"
          ],
          "name": "stdout"
        },
        {
          "output_type": "stream",
          "text": [
            "WARNING:tensorflow:Unresolved object in checkpoint: (root).optimizer's state 'v' for (root).layer_with_weights-3.layer_with_weights-9.gamma\n"
          ],
          "name": "stderr"
        },
        {
          "output_type": "stream",
          "text": [
            "WARNING:tensorflow:Unresolved object in checkpoint: (root).optimizer's state 'v' for (root).layer_with_weights-3.layer_with_weights-9.beta\n"
          ],
          "name": "stdout"
        },
        {
          "output_type": "stream",
          "text": [
            "WARNING:tensorflow:Unresolved object in checkpoint: (root).optimizer's state 'v' for (root).layer_with_weights-3.layer_with_weights-9.beta\n"
          ],
          "name": "stderr"
        },
        {
          "output_type": "stream",
          "text": [
            "WARNING:tensorflow:Unresolved object in checkpoint: (root).optimizer's state 'v' for (root).layer_with_weights-3.layer_with_weights-10.kernel\n"
          ],
          "name": "stdout"
        },
        {
          "output_type": "stream",
          "text": [
            "WARNING:tensorflow:Unresolved object in checkpoint: (root).optimizer's state 'v' for (root).layer_with_weights-3.layer_with_weights-10.kernel\n"
          ],
          "name": "stderr"
        },
        {
          "output_type": "stream",
          "text": [
            "WARNING:tensorflow:Unresolved object in checkpoint: (root).optimizer's state 'v' for (root).layer_with_weights-3.layer_with_weights-11.gamma\n"
          ],
          "name": "stdout"
        },
        {
          "output_type": "stream",
          "text": [
            "WARNING:tensorflow:Unresolved object in checkpoint: (root).optimizer's state 'v' for (root).layer_with_weights-3.layer_with_weights-11.gamma\n"
          ],
          "name": "stderr"
        },
        {
          "output_type": "stream",
          "text": [
            "WARNING:tensorflow:Unresolved object in checkpoint: (root).optimizer's state 'v' for (root).layer_with_weights-3.layer_with_weights-11.beta\n"
          ],
          "name": "stdout"
        },
        {
          "output_type": "stream",
          "text": [
            "WARNING:tensorflow:Unresolved object in checkpoint: (root).optimizer's state 'v' for (root).layer_with_weights-3.layer_with_weights-11.beta\n"
          ],
          "name": "stderr"
        },
        {
          "output_type": "stream",
          "text": [
            "WARNING:tensorflow:Unresolved object in checkpoint: (root).optimizer's state 'v' for (root).layer_with_weights-4.layer_with_weights-0.kernel\n"
          ],
          "name": "stdout"
        },
        {
          "output_type": "stream",
          "text": [
            "WARNING:tensorflow:Unresolved object in checkpoint: (root).optimizer's state 'v' for (root).layer_with_weights-4.layer_with_weights-0.kernel\n"
          ],
          "name": "stderr"
        },
        {
          "output_type": "stream",
          "text": [
            "WARNING:tensorflow:Unresolved object in checkpoint: (root).optimizer's state 'v' for (root).layer_with_weights-4.layer_with_weights-1.gamma\n"
          ],
          "name": "stdout"
        },
        {
          "output_type": "stream",
          "text": [
            "WARNING:tensorflow:Unresolved object in checkpoint: (root).optimizer's state 'v' for (root).layer_with_weights-4.layer_with_weights-1.gamma\n"
          ],
          "name": "stderr"
        },
        {
          "output_type": "stream",
          "text": [
            "WARNING:tensorflow:Unresolved object in checkpoint: (root).optimizer's state 'v' for (root).layer_with_weights-4.layer_with_weights-1.beta\n"
          ],
          "name": "stdout"
        },
        {
          "output_type": "stream",
          "text": [
            "WARNING:tensorflow:Unresolved object in checkpoint: (root).optimizer's state 'v' for (root).layer_with_weights-4.layer_with_weights-1.beta\n"
          ],
          "name": "stderr"
        },
        {
          "output_type": "stream",
          "text": [
            "WARNING:tensorflow:Unresolved object in checkpoint: (root).optimizer's state 'v' for (root).layer_with_weights-4.layer_with_weights-2.kernel\n"
          ],
          "name": "stdout"
        },
        {
          "output_type": "stream",
          "text": [
            "WARNING:tensorflow:Unresolved object in checkpoint: (root).optimizer's state 'v' for (root).layer_with_weights-4.layer_with_weights-2.kernel\n"
          ],
          "name": "stderr"
        },
        {
          "output_type": "stream",
          "text": [
            "WARNING:tensorflow:Unresolved object in checkpoint: (root).optimizer's state 'v' for (root).layer_with_weights-4.layer_with_weights-2.bias\n"
          ],
          "name": "stdout"
        },
        {
          "output_type": "stream",
          "text": [
            "\r  0%|          | 6/5000 [00:03<35:40,  2.33it/s]WARNING:tensorflow:Unresolved object in checkpoint: (root).optimizer's state 'v' for (root).layer_with_weights-4.layer_with_weights-2.bias\n"
          ],
          "name": "stderr"
        },
        {
          "output_type": "stream",
          "text": [
            "WARNING:tensorflow:Unresolved object in checkpoint: (root).optimizer's state 'v' for (root).layer_with_weights-5.layer_with_weights-0.kernel\n"
          ],
          "name": "stdout"
        },
        {
          "output_type": "stream",
          "text": [
            "WARNING:tensorflow:Unresolved object in checkpoint: (root).optimizer's state 'v' for (root).layer_with_weights-5.layer_with_weights-0.kernel\n"
          ],
          "name": "stderr"
        },
        {
          "output_type": "stream",
          "text": [
            "WARNING:tensorflow:Unresolved object in checkpoint: (root).optimizer's state 'v' for (root).layer_with_weights-5.layer_with_weights-1.gamma\n"
          ],
          "name": "stdout"
        },
        {
          "output_type": "stream",
          "text": [
            "WARNING:tensorflow:Unresolved object in checkpoint: (root).optimizer's state 'v' for (root).layer_with_weights-5.layer_with_weights-1.gamma\n"
          ],
          "name": "stderr"
        },
        {
          "output_type": "stream",
          "text": [
            "WARNING:tensorflow:Unresolved object in checkpoint: (root).optimizer's state 'v' for (root).layer_with_weights-5.layer_with_weights-1.beta\n"
          ],
          "name": "stdout"
        },
        {
          "output_type": "stream",
          "text": [
            "WARNING:tensorflow:Unresolved object in checkpoint: (root).optimizer's state 'v' for (root).layer_with_weights-5.layer_with_weights-1.beta\n"
          ],
          "name": "stderr"
        },
        {
          "output_type": "stream",
          "text": [
            "WARNING:tensorflow:Unresolved object in checkpoint: (root).optimizer's state 'v' for (root).layer_with_weights-5.layer_with_weights-2.kernel\n"
          ],
          "name": "stdout"
        },
        {
          "output_type": "stream",
          "text": [
            "WARNING:tensorflow:Unresolved object in checkpoint: (root).optimizer's state 'v' for (root).layer_with_weights-5.layer_with_weights-2.kernel\n"
          ],
          "name": "stderr"
        },
        {
          "output_type": "stream",
          "text": [
            "WARNING:tensorflow:Unresolved object in checkpoint: (root).optimizer's state 'v' for (root).layer_with_weights-5.layer_with_weights-2.bias\n"
          ],
          "name": "stdout"
        },
        {
          "output_type": "stream",
          "text": [
            "WARNING:tensorflow:Unresolved object in checkpoint: (root).optimizer's state 'v' for (root).layer_with_weights-5.layer_with_weights-2.bias\n"
          ],
          "name": "stderr"
        },
        {
          "output_type": "stream",
          "text": [
            "WARNING:tensorflow:Unresolved object in checkpoint: (root).optimizer's state 'v' for (root).layer_with_weights-6.layer_with_weights-0.kernel\n"
          ],
          "name": "stdout"
        },
        {
          "output_type": "stream",
          "text": [
            "WARNING:tensorflow:Unresolved object in checkpoint: (root).optimizer's state 'v' for (root).layer_with_weights-6.layer_with_weights-0.kernel\n"
          ],
          "name": "stderr"
        },
        {
          "output_type": "stream",
          "text": [
            "WARNING:tensorflow:Unresolved object in checkpoint: (root).optimizer's state 'v' for (root).layer_with_weights-6.layer_with_weights-1.gamma\n"
          ],
          "name": "stdout"
        },
        {
          "output_type": "stream",
          "text": [
            "WARNING:tensorflow:Unresolved object in checkpoint: (root).optimizer's state 'v' for (root).layer_with_weights-6.layer_with_weights-1.gamma\n"
          ],
          "name": "stderr"
        },
        {
          "output_type": "stream",
          "text": [
            "WARNING:tensorflow:Unresolved object in checkpoint: (root).optimizer's state 'v' for (root).layer_with_weights-6.layer_with_weights-1.beta\n"
          ],
          "name": "stdout"
        },
        {
          "output_type": "stream",
          "text": [
            "WARNING:tensorflow:Unresolved object in checkpoint: (root).optimizer's state 'v' for (root).layer_with_weights-6.layer_with_weights-1.beta\n"
          ],
          "name": "stderr"
        },
        {
          "output_type": "stream",
          "text": [
            "WARNING:tensorflow:Unresolved object in checkpoint: (root).optimizer's state 'v' for (root).layer_with_weights-6.layer_with_weights-2.kernel\n"
          ],
          "name": "stdout"
        },
        {
          "output_type": "stream",
          "text": [
            "WARNING:tensorflow:Unresolved object in checkpoint: (root).optimizer's state 'v' for (root).layer_with_weights-6.layer_with_weights-2.kernel\n"
          ],
          "name": "stderr"
        },
        {
          "output_type": "stream",
          "text": [
            "WARNING:tensorflow:Unresolved object in checkpoint: (root).optimizer's state 'v' for (root).layer_with_weights-6.layer_with_weights-2.bias\n"
          ],
          "name": "stdout"
        },
        {
          "output_type": "stream",
          "text": [
            "WARNING:tensorflow:Unresolved object in checkpoint: (root).optimizer's state 'v' for (root).layer_with_weights-6.layer_with_weights-2.bias\n"
          ],
          "name": "stderr"
        },
        {
          "output_type": "stream",
          "text": [
            "WARNING:tensorflow:A checkpoint was restored (e.g. tf.train.Checkpoint.restore or tf.keras.Model.load_weights) but not all checkpointed values were used. See above for specific issues. Use expect_partial() on the load status object, e.g. tf.train.Checkpoint.restore(...).expect_partial(), to silence these warnings, or use assert_consumed() to make the check explicit. See https://www.tensorflow.org/guide/checkpoint#loading_mechanics for details.\n"
          ],
          "name": "stdout"
        },
        {
          "output_type": "stream",
          "text": [
            "WARNING:tensorflow:A checkpoint was restored (e.g. tf.train.Checkpoint.restore or tf.keras.Model.load_weights) but not all checkpointed values were used. See above for specific issues. Use expect_partial() on the load status object, e.g. tf.train.Checkpoint.restore(...).expect_partial(), to silence these warnings, or use assert_consumed() to make the check explicit. See https://www.tensorflow.org/guide/checkpoint#loading_mechanics for details.\n",
            "100%|██████████| 5000/5000 [15:23<00:00,  5.42it/s]\n"
          ],
          "name": "stderr"
        }
      ]
    },
    {
      "cell_type": "code",
      "metadata": {
        "id": "jjJf7SIuDNOc"
      },
      "source": [
        ""
      ],
      "execution_count": null,
      "outputs": []
    }
  ]
}